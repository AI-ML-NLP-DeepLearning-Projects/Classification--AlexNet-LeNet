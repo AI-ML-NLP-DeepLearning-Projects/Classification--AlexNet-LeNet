{
 "cells": [
  {
   "cell_type": "markdown",
   "metadata": {},
   "source": [
    "# Importing Basics Libraries"
   ]
  },
  {
   "cell_type": "code",
   "execution_count": 1,
   "metadata": {
    "_cell_guid": "b1076dfc-b9ad-4769-8c92-a6c4dae69d19",
    "_uuid": "8f2839f25d086af736a60e9eeb907d3b93b6e0e5"
   },
   "outputs": [],
   "source": [
    "import numpy as np \n",
    "import pandas as pd"
   ]
  },
  {
   "cell_type": "code",
   "execution_count": 4,
   "metadata": {},
   "outputs": [
    {
     "name": "stdout",
     "output_type": "stream",
     "text": [
      "/Users/imac/Desktop\n"
     ]
    }
   ],
   "source": [
    "cd Desktop"
   ]
  },
  {
   "cell_type": "markdown",
   "metadata": {},
   "source": [
    "# Reading Training Data from Train Folder"
   ]
  },
  {
   "cell_type": "code",
   "execution_count": 6,
   "metadata": {
    "_cell_guid": "79c7e3d0-c299-4dcb-8224-4455121ee9b0",
    "_uuid": "d629ff2d2480ee46fbb7e2d37f6b5fab8052498a"
   },
   "outputs": [],
   "source": [
    "path=[]\n",
    "label=[]\n",
    "import os\n",
    "for dirname, _, filenames in os.walk('/Users/imac/Desktop/image-dataset/_train'):\n",
    "    for filename in filenames:\n",
    "        if ((os.path.basename(dirname))!=\"cat\"):\n",
    "            path.append(os.path.join(dirname, filename))    \n",
    "            label.append(os.path.basename(dirname))"
   ]
  },
  {
   "cell_type": "code",
   "execution_count": 7,
   "metadata": {},
   "outputs": [
    {
     "data": {
      "text/plain": [
       "5162"
      ]
     },
     "execution_count": 7,
     "metadata": {},
     "output_type": "execute_result"
    }
   ],
   "source": [
    "len(path)\n",
    "len(label)"
   ]
  },
  {
   "cell_type": "markdown",
   "metadata": {},
   "source": [
    "# Making a Dataframe of Training data"
   ]
  },
  {
   "cell_type": "code",
   "execution_count": 8,
   "metadata": {},
   "outputs": [],
   "source": [
    "df_train = pd.DataFrame(list(zip(path, label)), \n",
    "               columns =['Path', 'Label'])"
   ]
  },
  {
   "cell_type": "code",
   "execution_count": 9,
   "metadata": {},
   "outputs": [
    {
     "data": {
      "text/html": [
       "<div>\n",
       "<style scoped>\n",
       "    .dataframe tbody tr th:only-of-type {\n",
       "        vertical-align: middle;\n",
       "    }\n",
       "\n",
       "    .dataframe tbody tr th {\n",
       "        vertical-align: top;\n",
       "    }\n",
       "\n",
       "    .dataframe thead th {\n",
       "        text-align: right;\n",
       "    }\n",
       "</style>\n",
       "<table border=\"1\" class=\"dataframe\">\n",
       "  <thead>\n",
       "    <tr style=\"text-align: right;\">\n",
       "      <th></th>\n",
       "      <th>Path</th>\n",
       "      <th>Label</th>\n",
       "    </tr>\n",
       "  </thead>\n",
       "  <tbody>\n",
       "    <tr>\n",
       "      <th>0</th>\n",
       "      <td>/Users/imac/Desktop/image-dataset/_train/car/c...</td>\n",
       "      <td>car</td>\n",
       "    </tr>\n",
       "    <tr>\n",
       "      <th>1</th>\n",
       "      <td>/Users/imac/Desktop/image-dataset/_train/car/c...</td>\n",
       "      <td>car</td>\n",
       "    </tr>\n",
       "    <tr>\n",
       "      <th>2</th>\n",
       "      <td>/Users/imac/Desktop/image-dataset/_train/car/c...</td>\n",
       "      <td>car</td>\n",
       "    </tr>\n",
       "    <tr>\n",
       "      <th>3</th>\n",
       "      <td>/Users/imac/Desktop/image-dataset/_train/car/c...</td>\n",
       "      <td>car</td>\n",
       "    </tr>\n",
       "    <tr>\n",
       "      <th>4</th>\n",
       "      <td>/Users/imac/Desktop/image-dataset/_train/car/c...</td>\n",
       "      <td>car</td>\n",
       "    </tr>\n",
       "    <tr>\n",
       "      <th>...</th>\n",
       "      <td>...</td>\n",
       "      <td>...</td>\n",
       "    </tr>\n",
       "    <tr>\n",
       "      <th>5157</th>\n",
       "      <td>/Users/imac/Desktop/image-dataset/_train/airpl...</td>\n",
       "      <td>airplane</td>\n",
       "    </tr>\n",
       "    <tr>\n",
       "      <th>5158</th>\n",
       "      <td>/Users/imac/Desktop/image-dataset/_train/airpl...</td>\n",
       "      <td>airplane</td>\n",
       "    </tr>\n",
       "    <tr>\n",
       "      <th>5159</th>\n",
       "      <td>/Users/imac/Desktop/image-dataset/_train/airpl...</td>\n",
       "      <td>airplane</td>\n",
       "    </tr>\n",
       "    <tr>\n",
       "      <th>5160</th>\n",
       "      <td>/Users/imac/Desktop/image-dataset/_train/airpl...</td>\n",
       "      <td>airplane</td>\n",
       "    </tr>\n",
       "    <tr>\n",
       "      <th>5161</th>\n",
       "      <td>/Users/imac/Desktop/image-dataset/_train/airpl...</td>\n",
       "      <td>airplane</td>\n",
       "    </tr>\n",
       "  </tbody>\n",
       "</table>\n",
       "<p>5162 rows × 2 columns</p>\n",
       "</div>"
      ],
      "text/plain": [
       "                                                   Path     Label\n",
       "0     /Users/imac/Desktop/image-dataset/_train/car/c...       car\n",
       "1     /Users/imac/Desktop/image-dataset/_train/car/c...       car\n",
       "2     /Users/imac/Desktop/image-dataset/_train/car/c...       car\n",
       "3     /Users/imac/Desktop/image-dataset/_train/car/c...       car\n",
       "4     /Users/imac/Desktop/image-dataset/_train/car/c...       car\n",
       "...                                                 ...       ...\n",
       "5157  /Users/imac/Desktop/image-dataset/_train/airpl...  airplane\n",
       "5158  /Users/imac/Desktop/image-dataset/_train/airpl...  airplane\n",
       "5159  /Users/imac/Desktop/image-dataset/_train/airpl...  airplane\n",
       "5160  /Users/imac/Desktop/image-dataset/_train/airpl...  airplane\n",
       "5161  /Users/imac/Desktop/image-dataset/_train/airpl...  airplane\n",
       "\n",
       "[5162 rows x 2 columns]"
      ]
     },
     "execution_count": 9,
     "metadata": {},
     "output_type": "execute_result"
    }
   ],
   "source": [
    "df_train"
   ]
  },
  {
   "cell_type": "code",
   "execution_count": 10,
   "metadata": {},
   "outputs": [
    {
     "data": {
      "text/plain": [
       "'/Users/imac/Desktop/image-dataset/_train/airplane/airplane_0379.jpg'"
      ]
     },
     "execution_count": 10,
     "metadata": {},
     "output_type": "execute_result"
    }
   ],
   "source": [
    "df_train['Path'][5161]"
   ]
  },
  {
   "cell_type": "code",
   "execution_count": 11,
   "metadata": {},
   "outputs": [
    {
     "data": {
      "text/html": [
       "<div>\n",
       "<style scoped>\n",
       "    .dataframe tbody tr th:only-of-type {\n",
       "        vertical-align: middle;\n",
       "    }\n",
       "\n",
       "    .dataframe tbody tr th {\n",
       "        vertical-align: top;\n",
       "    }\n",
       "\n",
       "    .dataframe thead th {\n",
       "        text-align: right;\n",
       "    }\n",
       "</style>\n",
       "<table border=\"1\" class=\"dataframe\">\n",
       "  <thead>\n",
       "    <tr style=\"text-align: right;\">\n",
       "      <th></th>\n",
       "      <th>Path</th>\n",
       "    </tr>\n",
       "    <tr>\n",
       "      <th>Label</th>\n",
       "      <th></th>\n",
       "    </tr>\n",
       "  </thead>\n",
       "  <tbody>\n",
       "    <tr>\n",
       "      <th>airplane</th>\n",
       "      <td>619</td>\n",
       "    </tr>\n",
       "    <tr>\n",
       "      <th>car</th>\n",
       "      <td>871</td>\n",
       "    </tr>\n",
       "    <tr>\n",
       "      <th>dog</th>\n",
       "      <td>597</td>\n",
       "    </tr>\n",
       "    <tr>\n",
       "      <th>flower</th>\n",
       "      <td>717</td>\n",
       "    </tr>\n",
       "    <tr>\n",
       "      <th>fruit</th>\n",
       "      <td>850</td>\n",
       "    </tr>\n",
       "    <tr>\n",
       "      <th>motorbike</th>\n",
       "      <td>670</td>\n",
       "    </tr>\n",
       "    <tr>\n",
       "      <th>person</th>\n",
       "      <td>838</td>\n",
       "    </tr>\n",
       "  </tbody>\n",
       "</table>\n",
       "</div>"
      ],
      "text/plain": [
       "           Path\n",
       "Label          \n",
       "airplane    619\n",
       "car         871\n",
       "dog         597\n",
       "flower      717\n",
       "fruit       850\n",
       "motorbike   670\n",
       "person      838"
      ]
     },
     "execution_count": 11,
     "metadata": {},
     "output_type": "execute_result"
    }
   ],
   "source": [
    "piechart=df_train.groupby(['Label']).count()\n",
    "piechart"
   ]
  },
  {
   "cell_type": "code",
   "execution_count": 12,
   "metadata": {},
   "outputs": [
    {
     "data": {
      "image/png": "[encoded data removed]",
      "text/plain": [
       "<Figure size 360x360 with 1 Axes>"
      ]
     },
     "metadata": {},
     "output_type": "display_data"
    }
   ],
   "source": [
    "plot = piechart.plot.pie(y='Path', figsize=(5, 5))\n"
   ]
  },
  {
   "cell_type": "markdown",
   "metadata": {},
   "source": [
    "# Shuffling Training Dataframe"
   ]
  },
  {
   "cell_type": "code",
   "execution_count": 13,
   "metadata": {},
   "outputs": [],
   "source": [
    "from sklearn.utils import shuffle\n",
    "df_train = shuffle(df_train)"
   ]
  },
  {
   "cell_type": "code",
   "execution_count": 14,
   "metadata": {},
   "outputs": [
    {
     "data": {
      "text/html": [
       "<div>\n",
       "<style scoped>\n",
       "    .dataframe tbody tr th:only-of-type {\n",
       "        vertical-align: middle;\n",
       "    }\n",
       "\n",
       "    .dataframe tbody tr th {\n",
       "        vertical-align: top;\n",
       "    }\n",
       "\n",
       "    .dataframe thead th {\n",
       "        text-align: right;\n",
       "    }\n",
       "</style>\n",
       "<table border=\"1\" class=\"dataframe\">\n",
       "  <thead>\n",
       "    <tr style=\"text-align: right;\">\n",
       "      <th></th>\n",
       "      <th>Path</th>\n",
       "      <th>Label</th>\n",
       "    </tr>\n",
       "  </thead>\n",
       "  <tbody>\n",
       "    <tr>\n",
       "      <th>1380</th>\n",
       "      <td>/Users/imac/Desktop/image-dataset/_train/fruit...</td>\n",
       "      <td>fruit</td>\n",
       "    </tr>\n",
       "    <tr>\n",
       "      <th>3214</th>\n",
       "      <td>/Users/imac/Desktop/image-dataset/_train/flowe...</td>\n",
       "      <td>flower</td>\n",
       "    </tr>\n",
       "    <tr>\n",
       "      <th>4299</th>\n",
       "      <td>/Users/imac/Desktop/image-dataset/_train/motor...</td>\n",
       "      <td>motorbike</td>\n",
       "    </tr>\n",
       "    <tr>\n",
       "      <th>4999</th>\n",
       "      <td>/Users/imac/Desktop/image-dataset/_train/airpl...</td>\n",
       "      <td>airplane</td>\n",
       "    </tr>\n",
       "    <tr>\n",
       "      <th>3024</th>\n",
       "      <td>/Users/imac/Desktop/image-dataset/_train/perso...</td>\n",
       "      <td>person</td>\n",
       "    </tr>\n",
       "    <tr>\n",
       "      <th>...</th>\n",
       "      <td>...</td>\n",
       "      <td>...</td>\n",
       "    </tr>\n",
       "    <tr>\n",
       "      <th>1825</th>\n",
       "      <td>/Users/imac/Desktop/image-dataset/_train/dog/d...</td>\n",
       "      <td>dog</td>\n",
       "    </tr>\n",
       "    <tr>\n",
       "      <th>2251</th>\n",
       "      <td>/Users/imac/Desktop/image-dataset/_train/dog/d...</td>\n",
       "      <td>dog</td>\n",
       "    </tr>\n",
       "    <tr>\n",
       "      <th>4875</th>\n",
       "      <td>/Users/imac/Desktop/image-dataset/_train/airpl...</td>\n",
       "      <td>airplane</td>\n",
       "    </tr>\n",
       "    <tr>\n",
       "      <th>172</th>\n",
       "      <td>/Users/imac/Desktop/image-dataset/_train/car/c...</td>\n",
       "      <td>car</td>\n",
       "    </tr>\n",
       "    <tr>\n",
       "      <th>2993</th>\n",
       "      <td>/Users/imac/Desktop/image-dataset/_train/perso...</td>\n",
       "      <td>person</td>\n",
       "    </tr>\n",
       "  </tbody>\n",
       "</table>\n",
       "<p>5162 rows × 2 columns</p>\n",
       "</div>"
      ],
      "text/plain": [
       "                                                   Path      Label\n",
       "1380  /Users/imac/Desktop/image-dataset/_train/fruit...      fruit\n",
       "3214  /Users/imac/Desktop/image-dataset/_train/flowe...     flower\n",
       "4299  /Users/imac/Desktop/image-dataset/_train/motor...  motorbike\n",
       "4999  /Users/imac/Desktop/image-dataset/_train/airpl...   airplane\n",
       "3024  /Users/imac/Desktop/image-dataset/_train/perso...     person\n",
       "...                                                 ...        ...\n",
       "1825  /Users/imac/Desktop/image-dataset/_train/dog/d...        dog\n",
       "2251  /Users/imac/Desktop/image-dataset/_train/dog/d...        dog\n",
       "4875  /Users/imac/Desktop/image-dataset/_train/airpl...   airplane\n",
       "172   /Users/imac/Desktop/image-dataset/_train/car/c...        car\n",
       "2993  /Users/imac/Desktop/image-dataset/_train/perso...     person\n",
       "\n",
       "[5162 rows x 2 columns]"
      ]
     },
     "execution_count": 14,
     "metadata": {},
     "output_type": "execute_result"
    }
   ],
   "source": [
    "df_train"
   ]
  },
  {
   "cell_type": "markdown",
   "metadata": {},
   "source": [
    "# Reading Test Data from Test Folder"
   ]
  },
  {
   "cell_type": "code",
   "execution_count": 15,
   "metadata": {},
   "outputs": [],
   "source": [
    "path=[]\n",
    "label=[]\n",
    "import os\n",
    "for dirname, _, filenames in os.walk('/Users/imac/Desktop/image-dataset/_test'):\n",
    "    for filename in filenames:\n",
    "        if ((os.path.basename(dirname))!=\"cat\"):\n",
    "            path.append(os.path.join(dirname, filename))    \n",
    "            label.append(os.path.basename(dirname))"
   ]
  },
  {
   "cell_type": "markdown",
   "metadata": {},
   "source": [
    "# Making a dataframe of testing data "
   ]
  },
  {
   "cell_type": "code",
   "execution_count": 16,
   "metadata": {},
   "outputs": [],
   "source": [
    "\n",
    "df_test = pd.DataFrame(list(zip(path, label)), \n",
    "               columns =['Path', 'Label'])\n"
   ]
  },
  {
   "cell_type": "code",
   "execution_count": 17,
   "metadata": {},
   "outputs": [
    {
     "data": {
      "text/html": [
       "<div>\n",
       "<style scoped>\n",
       "    .dataframe tbody tr th:only-of-type {\n",
       "        vertical-align: middle;\n",
       "    }\n",
       "\n",
       "    .dataframe tbody tr th {\n",
       "        vertical-align: top;\n",
       "    }\n",
       "\n",
       "    .dataframe thead th {\n",
       "        text-align: right;\n",
       "    }\n",
       "</style>\n",
       "<table border=\"1\" class=\"dataframe\">\n",
       "  <thead>\n",
       "    <tr style=\"text-align: right;\">\n",
       "      <th></th>\n",
       "      <th>Path</th>\n",
       "    </tr>\n",
       "    <tr>\n",
       "      <th>Label</th>\n",
       "      <th></th>\n",
       "    </tr>\n",
       "  </thead>\n",
       "  <tbody>\n",
       "    <tr>\n",
       "      <th>airplane</th>\n",
       "      <td>108</td>\n",
       "    </tr>\n",
       "    <tr>\n",
       "      <th>car</th>\n",
       "      <td>97</td>\n",
       "    </tr>\n",
       "    <tr>\n",
       "      <th>dog</th>\n",
       "      <td>105</td>\n",
       "    </tr>\n",
       "    <tr>\n",
       "      <th>flower</th>\n",
       "      <td>126</td>\n",
       "    </tr>\n",
       "    <tr>\n",
       "      <th>fruit</th>\n",
       "      <td>150</td>\n",
       "    </tr>\n",
       "    <tr>\n",
       "      <th>motorbike</th>\n",
       "      <td>118</td>\n",
       "    </tr>\n",
       "    <tr>\n",
       "      <th>person</th>\n",
       "      <td>148</td>\n",
       "    </tr>\n",
       "  </tbody>\n",
       "</table>\n",
       "</div>"
      ],
      "text/plain": [
       "           Path\n",
       "Label          \n",
       "airplane    108\n",
       "car          97\n",
       "dog         105\n",
       "flower      126\n",
       "fruit       150\n",
       "motorbike   118\n",
       "person      148"
      ]
     },
     "execution_count": 17,
     "metadata": {},
     "output_type": "execute_result"
    }
   ],
   "source": [
    "piechart=df_test.groupby(['Label']).count()\n",
    "piechart"
   ]
  },
  {
   "cell_type": "code",
   "execution_count": 18,
   "metadata": {},
   "outputs": [
    {
     "data": {
      "image/png": "[encoded data removed]",
      "text/plain": [
       "<Figure size 360x360 with 1 Axes>"
      ]
     },
     "metadata": {},
     "output_type": "display_data"
    }
   ],
   "source": [
    "plot = piechart.plot.pie(y='Path', figsize=(5, 5))"
   ]
  },
  {
   "cell_type": "markdown",
   "metadata": {},
   "source": [
    "# Shuffling Test Dataframe"
   ]
  },
  {
   "cell_type": "code",
   "execution_count": 19,
   "metadata": {},
   "outputs": [],
   "source": [
    "df_test = shuffle(df_test)"
   ]
  },
  {
   "cell_type": "code",
   "execution_count": 20,
   "metadata": {},
   "outputs": [
    {
     "data": {
      "text/html": [
       "<div>\n",
       "<style scoped>\n",
       "    .dataframe tbody tr th:only-of-type {\n",
       "        vertical-align: middle;\n",
       "    }\n",
       "\n",
       "    .dataframe tbody tr th {\n",
       "        vertical-align: top;\n",
       "    }\n",
       "\n",
       "    .dataframe thead th {\n",
       "        text-align: right;\n",
       "    }\n",
       "</style>\n",
       "<table border=\"1\" class=\"dataframe\">\n",
       "  <thead>\n",
       "    <tr style=\"text-align: right;\">\n",
       "      <th></th>\n",
       "      <th>Path</th>\n",
       "      <th>Label</th>\n",
       "    </tr>\n",
       "  </thead>\n",
       "  <tbody>\n",
       "    <tr>\n",
       "      <th>570</th>\n",
       "      <td>/Users/imac/Desktop/image-dataset/_test/flower...</td>\n",
       "      <td>flower</td>\n",
       "    </tr>\n",
       "    <tr>\n",
       "      <th>469</th>\n",
       "      <td>/Users/imac/Desktop/image-dataset/_test/person...</td>\n",
       "      <td>person</td>\n",
       "    </tr>\n",
       "    <tr>\n",
       "      <th>443</th>\n",
       "      <td>/Users/imac/Desktop/image-dataset/_test/person...</td>\n",
       "      <td>person</td>\n",
       "    </tr>\n",
       "    <tr>\n",
       "      <th>418</th>\n",
       "      <td>/Users/imac/Desktop/image-dataset/_test/person...</td>\n",
       "      <td>person</td>\n",
       "    </tr>\n",
       "    <tr>\n",
       "      <th>369</th>\n",
       "      <td>/Users/imac/Desktop/image-dataset/_test/person...</td>\n",
       "      <td>person</td>\n",
       "    </tr>\n",
       "    <tr>\n",
       "      <th>...</th>\n",
       "      <td>...</td>\n",
       "      <td>...</td>\n",
       "    </tr>\n",
       "    <tr>\n",
       "      <th>677</th>\n",
       "      <td>/Users/imac/Desktop/image-dataset/_test/motorb...</td>\n",
       "      <td>motorbike</td>\n",
       "    </tr>\n",
       "    <tr>\n",
       "      <th>639</th>\n",
       "      <td>/Users/imac/Desktop/image-dataset/_test/motorb...</td>\n",
       "      <td>motorbike</td>\n",
       "    </tr>\n",
       "    <tr>\n",
       "      <th>450</th>\n",
       "      <td>/Users/imac/Desktop/image-dataset/_test/person...</td>\n",
       "      <td>person</td>\n",
       "    </tr>\n",
       "    <tr>\n",
       "      <th>31</th>\n",
       "      <td>/Users/imac/Desktop/image-dataset/_test/car/ca...</td>\n",
       "      <td>car</td>\n",
       "    </tr>\n",
       "    <tr>\n",
       "      <th>173</th>\n",
       "      <td>/Users/imac/Desktop/image-dataset/_test/fruit/...</td>\n",
       "      <td>fruit</td>\n",
       "    </tr>\n",
       "  </tbody>\n",
       "</table>\n",
       "<p>852 rows × 2 columns</p>\n",
       "</div>"
      ],
      "text/plain": [
       "                                                  Path      Label\n",
       "570  /Users/imac/Desktop/image-dataset/_test/flower...     flower\n",
       "469  /Users/imac/Desktop/image-dataset/_test/person...     person\n",
       "443  /Users/imac/Desktop/image-dataset/_test/person...     person\n",
       "418  /Users/imac/Desktop/image-dataset/_test/person...     person\n",
       "369  /Users/imac/Desktop/image-dataset/_test/person...     person\n",
       "..                                                 ...        ...\n",
       "677  /Users/imac/Desktop/image-dataset/_test/motorb...  motorbike\n",
       "639  /Users/imac/Desktop/image-dataset/_test/motorb...  motorbike\n",
       "450  /Users/imac/Desktop/image-dataset/_test/person...     person\n",
       "31   /Users/imac/Desktop/image-dataset/_test/car/ca...        car\n",
       "173  /Users/imac/Desktop/image-dataset/_test/fruit/...      fruit\n",
       "\n",
       "[852 rows x 2 columns]"
      ]
     },
     "execution_count": 20,
     "metadata": {},
     "output_type": "execute_result"
    }
   ],
   "source": [
    "df_test"
   ]
  },
  {
   "cell_type": "markdown",
   "metadata": {},
   "source": [
    "# AlexNet Implementation\n"
   ]
  },
  {
   "cell_type": "markdown",
   "metadata": {},
   "source": [
    "## Take Images in Batches"
   ]
  },
  {
   "cell_type": "code",
   "execution_count": 180,
   "metadata": {},
   "outputs": [],
   "source": [
    "from keras_preprocessing.image import ImageDataGenerator"
   ]
  },
  {
   "cell_type": "code",
   "execution_count": 181,
   "metadata": {},
   "outputs": [],
   "source": [
    "datagen=ImageDataGenerator(rescale=1./255.)"
   ]
  },
  {
   "cell_type": "code",
   "execution_count": 237,
   "metadata": {},
   "outputs": [
    {
     "name": "stdout",
     "output_type": "stream",
     "text": [
      "Found 5162 validated image filenames belonging to 7 classes.\n",
      "Found 852 validated image filenames belonging to 7 classes.\n"
     ]
    }
   ],
   "source": [
    "train_generator=datagen.flow_from_dataframe(\n",
    "dataframe=df_train,\n",
    "directory=None,\n",
    "x_col=\"Path\",\n",
    "y_col=\"Label\",\n",
    "subset=\"training\",\n",
    "batch_size=32,\n",
    "seed=42,\n",
    "shuffle=True,\n",
    "class_mode=\"categorical\",\n",
    "target_size=(227,227)) \n",
    "\n",
    "test_datagen=ImageDataGenerator(rescale=1./255.)\n",
    "test_generator=test_datagen.flow_from_dataframe(\n",
    "dataframe=df_test,\n",
    "directory=None,\n",
    "x_col=\"Path\",\n",
    "y_col=\"Label\",\n",
    "batch_size=32,\n",
    "seed=42,\n",
    "shuffle=False,\n",
    "class_mode=\"categorical\",\n",
    "target_size=(227,227))"
   ]
  },
  {
   "cell_type": "markdown",
   "metadata": {},
   "source": [
    "Note: target size = (227,227) because AlexNet takes input size of (227,227)"
   ]
  },
  {
   "cell_type": "code",
   "execution_count": 183,
   "metadata": {},
   "outputs": [
    {
     "data": {
      "text/plain": [
       "{'airplane': 0,\n",
       " 'car': 1,\n",
       " 'dog': 2,\n",
       " 'flower': 3,\n",
       " 'fruit': 4,\n",
       " 'motorbike': 5,\n",
       " 'person': 6}"
      ]
     },
     "execution_count": 183,
     "metadata": {},
     "output_type": "execute_result"
    }
   ],
   "source": [
    "test_generator.class_indices"
   ]
  },
  {
   "cell_type": "code",
   "execution_count": 184,
   "metadata": {},
   "outputs": [
    {
     "data": {
      "text/plain": [
       "{'airplane': 0,\n",
       " 'car': 1,\n",
       " 'dog': 2,\n",
       " 'flower': 3,\n",
       " 'fruit': 4,\n",
       " 'motorbike': 5,\n",
       " 'person': 6}"
      ]
     },
     "execution_count": 184,
     "metadata": {},
     "output_type": "execute_result"
    }
   ],
   "source": [
    "train_generator.class_indices"
   ]
  },
  {
   "cell_type": "code",
   "execution_count": 185,
   "metadata": {},
   "outputs": [
    {
     "data": {
      "text/plain": [
       "(227, 227, 3)"
      ]
     },
     "execution_count": 185,
     "metadata": {},
     "output_type": "execute_result"
    }
   ],
   "source": [
    "train_generator.image_shape"
   ]
  },
  {
   "cell_type": "code",
   "execution_count": 111,
   "metadata": {},
   "outputs": [
    {
     "data": {
      "text/plain": [
       "<keras_preprocessing.image.dataframe_iterator.DataFrameIterator at 0x7f50fd965710>"
      ]
     },
     "execution_count": 111,
     "metadata": {},
     "output_type": "execute_result"
    }
   ],
   "source": [
    "train_generator"
   ]
  },
  {
   "cell_type": "markdown",
   "metadata": {},
   "source": [
    "# AlexNet Model Defining"
   ]
  },
  {
   "cell_type": "code",
   "execution_count": 186,
   "metadata": {},
   "outputs": [],
   "source": [
    "import tensorflow as tf\n",
    "import matplotlib.pyplot as plt\n",
    "from tensorflow.keras.models import Sequential\n",
    "from tensorflow.keras.layers import Dense,Flatten,Softmax\n",
    "from tensorflow.keras.utils import to_categorical\n",
    "import numpy as np\n",
    "import pandas as pd"
   ]
  },
  {
   "cell_type": "code",
   "execution_count": 187,
   "metadata": {},
   "outputs": [],
   "source": [
    "model = Sequential([\n",
    "    tf.keras.layers.Conv2D(filters=96, kernel_size=(11,11), strides=(4,4), activation='relu', input_shape=(227,227,3)),\n",
    "    tf.keras.layers.BatchNormalization(),\n",
    "    tf.keras.layers.MaxPool2D(pool_size=(3,3), strides=(2,2)),\n",
    "    tf.keras.layers.Conv2D(filters=256, kernel_size=(5,5), strides=(1,1), activation='relu', padding=\"same\"),\n",
    "    tf.keras.layers.BatchNormalization(),\n",
    "    tf.keras.layers.MaxPool2D(pool_size=(3,3), strides=(2,2)),\n",
    "    tf.keras.layers.Conv2D(filters=384, kernel_size=(3,3), strides=(1,1), activation='relu', padding=\"same\"),\n",
    "    tf.keras.layers.BatchNormalization(),\n",
    "    tf.keras.layers.Conv2D(filters=384, kernel_size=(1,1), strides=(1,1), activation='relu', padding=\"same\"),\n",
    "    tf.keras.layers.BatchNormalization(),\n",
    "    tf.keras.layers.Conv2D(filters=256, kernel_size=(1,1), strides=(1,1), activation='relu', padding=\"same\"),\n",
    "    tf.keras.layers.BatchNormalization(),\n",
    "    tf.keras.layers.MaxPool2D(pool_size=(3,3), strides=(2,2)),\n",
    "    Flatten(),\n",
    "    Dense(50, activation='relu'),\n",
    "    tf.keras.layers.Dropout(0.5),\n",
    "    Dense(50, activation='relu'),\n",
    "    tf.keras.layers.Dropout(0.5),\n",
    "    Dense(7, activation='softmax')\n",
    "])"
   ]
  },
  {
   "cell_type": "code",
   "execution_count": 188,
   "metadata": {},
   "outputs": [
    {
     "name": "stdout",
     "output_type": "stream",
     "text": [
      "Model: \"sequential_8\"\n",
      "_________________________________________________________________\n",
      "Layer (type)                 Output Shape              Param #   \n",
      "=================================================================\n",
      "conv2d_40 (Conv2D)           (None, 55, 55, 96)        34944     \n",
      "_________________________________________________________________\n",
      "batch_normalization_25 (Batc (None, 55, 55, 96)        384       \n",
      "_________________________________________________________________\n",
      "max_pooling2d_24 (MaxPooling (None, 27, 27, 96)        0         \n",
      "_________________________________________________________________\n",
      "conv2d_41 (Conv2D)           (None, 27, 27, 256)       614656    \n",
      "_________________________________________________________________\n",
      "batch_normalization_26 (Batc (None, 27, 27, 256)       1024      \n",
      "_________________________________________________________________\n",
      "max_pooling2d_25 (MaxPooling (None, 13, 13, 256)       0         \n",
      "_________________________________________________________________\n",
      "conv2d_42 (Conv2D)           (None, 13, 13, 384)       885120    \n",
      "_________________________________________________________________\n",
      "batch_normalization_27 (Batc (None, 13, 13, 384)       1536      \n",
      "_________________________________________________________________\n",
      "conv2d_43 (Conv2D)           (None, 13, 13, 384)       147840    \n",
      "_________________________________________________________________\n",
      "batch_normalization_28 (Batc (None, 13, 13, 384)       1536      \n",
      "_________________________________________________________________\n",
      "conv2d_44 (Conv2D)           (None, 13, 13, 256)       98560     \n",
      "_________________________________________________________________\n",
      "batch_normalization_29 (Batc (None, 13, 13, 256)       1024      \n",
      "_________________________________________________________________\n",
      "max_pooling2d_26 (MaxPooling (None, 6, 6, 256)         0         \n",
      "_________________________________________________________________\n",
      "flatten_8 (Flatten)          (None, 9216)              0         \n",
      "_________________________________________________________________\n",
      "dense_27 (Dense)             (None, 50)                460850    \n",
      "_________________________________________________________________\n",
      "dropout_19 (Dropout)         (None, 50)                0         \n",
      "_________________________________________________________________\n",
      "dense_28 (Dense)             (None, 50)                2550      \n",
      "_________________________________________________________________\n",
      "dropout_20 (Dropout)         (None, 50)                0         \n",
      "_________________________________________________________________\n",
      "dense_29 (Dense)             (None, 7)                 357       \n",
      "=================================================================\n",
      "Total params: 2,250,381\n",
      "Trainable params: 2,247,629\n",
      "Non-trainable params: 2,752\n",
      "_________________________________________________________________\n"
     ]
    }
   ],
   "source": [
    "model.summary()"
   ]
  },
  {
   "cell_type": "code",
   "execution_count": 190,
   "metadata": {},
   "outputs": [],
   "source": [
    "model.compile(loss='categorical_crossentropy', optimizer=tf.optimizers.SGD(lr=0.001), metrics=['accuracy'])"
   ]
  },
  {
   "cell_type": "code",
   "execution_count": 191,
   "metadata": {},
   "outputs": [
    {
     "name": "stdout",
     "output_type": "stream",
     "text": [
      "Epoch 1/30\n",
      "161/161 [==============================] - 13s 79ms/step - loss: 1.8344 - accuracy: 0.2875\n",
      "Epoch 2/30\n",
      "161/161 [==============================] - 13s 79ms/step - loss: 1.5576 - accuracy: 0.3895\n",
      "Epoch 3/30\n",
      "161/161 [==============================] - 13s 79ms/step - loss: 1.3989 - accuracy: 0.4737\n",
      "Epoch 4/30\n",
      "161/161 [==============================] - 13s 79ms/step - loss: 1.2908 - accuracy: 0.5115\n",
      "Epoch 5/30\n",
      "161/161 [==============================] - 13s 84ms/step - loss: 1.1908 - accuracy: 0.5439\n",
      "Epoch 6/30\n",
      "161/161 [==============================] - 13s 80ms/step - loss: 1.0880 - accuracy: 0.5971\n",
      "Epoch 7/30\n",
      "161/161 [==============================] - 12s 77ms/step - loss: 0.9876 - accuracy: 0.6425\n",
      "Epoch 8/30\n",
      "161/161 [==============================] - 13s 80ms/step - loss: 0.9270 - accuracy: 0.6635\n",
      "Epoch 9/30\n",
      "161/161 [==============================] - 13s 82ms/step - loss: 0.8253 - accuracy: 0.6959\n",
      "Epoch 10/30\n",
      "161/161 [==============================] - 13s 80ms/step - loss: 0.7770 - accuracy: 0.7164\n",
      "Epoch 11/30\n",
      "161/161 [==============================] - 13s 78ms/step - loss: 0.7207 - accuracy: 0.7374\n",
      "Epoch 12/30\n",
      "161/161 [==============================] - 13s 79ms/step - loss: 0.6768 - accuracy: 0.7534\n",
      "Epoch 13/30\n",
      "161/161 [==============================] - 13s 82ms/step - loss: 0.6510 - accuracy: 0.7618\n",
      "Epoch 14/30\n",
      "161/161 [==============================] - 13s 82ms/step - loss: 0.6098 - accuracy: 0.7832\n",
      "Epoch 15/30\n",
      "161/161 [==============================] - 13s 82ms/step - loss: 0.5798 - accuracy: 0.7959\n",
      "Epoch 16/30\n",
      "161/161 [==============================] - 13s 78ms/step - loss: 0.5413 - accuracy: 0.8125\n",
      "Epoch 17/30\n",
      "161/161 [==============================] - 13s 79ms/step - loss: 0.5282 - accuracy: 0.8170\n",
      "Epoch 18/30\n",
      "161/161 [==============================] - 14s 84ms/step - loss: 0.4654 - accuracy: 0.8405\n",
      "Epoch 19/30\n",
      "161/161 [==============================] - 13s 79ms/step - loss: 0.4613 - accuracy: 0.8388\n",
      "Epoch 20/30\n",
      "161/161 [==============================] - 13s 80ms/step - loss: 0.4413 - accuracy: 0.8458\n",
      "Epoch 21/30\n",
      "161/161 [==============================] - 13s 79ms/step - loss: 0.4500 - accuracy: 0.8472\n",
      "Epoch 22/30\n",
      "161/161 [==============================] - 13s 78ms/step - loss: 0.4270 - accuracy: 0.8532\n",
      "Epoch 23/30\n",
      "161/161 [==============================] - 14s 84ms/step - loss: 0.3962 - accuracy: 0.8585\n",
      "Epoch 24/30\n",
      "161/161 [==============================] - 13s 78ms/step - loss: 0.4065 - accuracy: 0.8618\n",
      "Epoch 25/30\n",
      "161/161 [==============================] - 13s 80ms/step - loss: 0.3757 - accuracy: 0.8692\n",
      "Epoch 26/30\n",
      "161/161 [==============================] - 13s 80ms/step - loss: 0.3954 - accuracy: 0.8684\n",
      "Epoch 27/30\n",
      "161/161 [==============================] - 13s 82ms/step - loss: 0.3648 - accuracy: 0.8768\n",
      "Epoch 28/30\n",
      "161/161 [==============================] - 13s 80ms/step - loss: 0.3336 - accuracy: 0.8906\n",
      "Epoch 29/30\n",
      "161/161 [==============================] - 13s 80ms/step - loss: 0.3412 - accuracy: 0.8881\n",
      "Epoch 30/30\n",
      "161/161 [==============================] - 13s 79ms/step - loss: 0.3153 - accuracy: 0.8940\n"
     ]
    },
    {
     "data": {
      "text/plain": [
       "<tensorflow.python.keras.callbacks.History at 0x7f50f359bbd0>"
      ]
     },
     "execution_count": 191,
     "metadata": {},
     "output_type": "execute_result"
    }
   ],
   "source": [
    "STEP_SIZE_TRAIN=train_generator.n//train_generator.batch_size\n",
    "STEP_SIZE_TEST=test_generator.n//test_generator.batch_size\n",
    "model.fit_generator(generator=train_generator,\n",
    "                    steps_per_epoch=STEP_SIZE_TRAIN,\n",
    "                    epochs=30\n",
    ")"
   ]
  },
  {
   "cell_type": "markdown",
   "metadata": {},
   "source": [
    "# Test Accuracy"
   ]
  },
  {
   "cell_type": "code",
   "execution_count": 192,
   "metadata": {},
   "outputs": [
    {
     "data": {
      "text/plain": [
       "[0.11320384591817856, 0.9747596383094788]"
      ]
     },
     "execution_count": 192,
     "metadata": {},
     "output_type": "execute_result"
    }
   ],
   "source": [
    "model.evaluate_generator(generator=test_generator,\n",
    "steps=STEP_SIZE_TEST)"
   ]
  },
  {
   "cell_type": "markdown",
   "metadata": {},
   "source": [
    "# Predict Label of an Image"
   ]
  },
  {
   "cell_type": "code",
   "execution_count": 236,
   "metadata": {},
   "outputs": [
    {
     "ename": "ValueError",
     "evalue": "in user code:\n\n    /opt/conda/lib/python3.7/site-packages/tensorflow/python/keras/engine/training.py:1462 predict_function  *\n        return step_function(self, iterator)\n    /opt/conda/lib/python3.7/site-packages/tensorflow/python/keras/engine/training.py:1452 step_function  **\n        outputs = model.distribute_strategy.run(run_step, args=(data,))\n    /opt/conda/lib/python3.7/site-packages/tensorflow/python/distribute/distribute_lib.py:1211 run\n        return self._extended.call_for_each_replica(fn, args=args, kwargs=kwargs)\n    /opt/conda/lib/python3.7/site-packages/tensorflow/python/distribute/distribute_lib.py:2585 call_for_each_replica\n        return self._call_for_each_replica(fn, args, kwargs)\n    /opt/conda/lib/python3.7/site-packages/tensorflow/python/distribute/distribute_lib.py:2945 _call_for_each_replica\n        return fn(*args, **kwargs)\n    /opt/conda/lib/python3.7/site-packages/tensorflow/python/keras/engine/training.py:1445 run_step  **\n        outputs = model.predict_step(data)\n    /opt/conda/lib/python3.7/site-packages/tensorflow/python/keras/engine/training.py:1418 predict_step\n        return self(x, training=False)\n    /opt/conda/lib/python3.7/site-packages/tensorflow/python/keras/engine/base_layer.py:976 __call__\n        self.name)\n    /opt/conda/lib/python3.7/site-packages/tensorflow/python/keras/engine/input_spec.py:216 assert_input_compatibility\n        ' but received input with shape ' + str(shape))\n\n    ValueError: Input 0 of layer sequential_12 is incompatible with the layer: expected axis -1 of input shape to have value 1 but received input with shape [None, None, None, 3]\n",
     "output_type": "error",
     "traceback": [
      "\u001b[0;31m---------------------------------------------------------------------------\u001b[0m",
      "\u001b[0;31mValueError\u001b[0m                                Traceback (most recent call last)",
      "\u001b[0;32m<ipython-input-236-a7374a89a776>\u001b[0m in \u001b[0;36m<module>\u001b[0;34m\u001b[0m\n\u001b[1;32m      9\u001b[0m \u001b[0mtest_image\u001b[0m \u001b[0;34m=\u001b[0m \u001b[0mimage\u001b[0m\u001b[0;34m.\u001b[0m\u001b[0mimg_to_array\u001b[0m\u001b[0;34m(\u001b[0m\u001b[0mtest_image\u001b[0m\u001b[0;34m)\u001b[0m\u001b[0;34m\u001b[0m\u001b[0;34m\u001b[0m\u001b[0m\n\u001b[1;32m     10\u001b[0m \u001b[0mtest_image\u001b[0m \u001b[0;34m=\u001b[0m \u001b[0mnp\u001b[0m\u001b[0;34m.\u001b[0m\u001b[0mexpand_dims\u001b[0m\u001b[0;34m(\u001b[0m\u001b[0mtest_image\u001b[0m\u001b[0;34m,\u001b[0m\u001b[0maxis\u001b[0m\u001b[0;34m=\u001b[0m\u001b[0;36m0\u001b[0m\u001b[0;34m)\u001b[0m\u001b[0;34m\u001b[0m\u001b[0;34m\u001b[0m\u001b[0m\n\u001b[0;32m---> 11\u001b[0;31m \u001b[0mprint\u001b[0m\u001b[0;34m(\u001b[0m\u001b[0;34m\"This Image Belongs to Label: \"\u001b[0m\u001b[0;34m,\u001b[0m\u001b[0mmodel\u001b[0m\u001b[0;34m.\u001b[0m\u001b[0mpredict_classes\u001b[0m\u001b[0;34m(\u001b[0m\u001b[0mtest_image\u001b[0m\u001b[0;34m)\u001b[0m\u001b[0;34m[\u001b[0m\u001b[0;36m0\u001b[0m\u001b[0;34m]\u001b[0m\u001b[0;34m)\u001b[0m\u001b[0;34m\u001b[0m\u001b[0;34m\u001b[0m\u001b[0m\n\u001b[0m",
      "\u001b[0;32m/opt/conda/lib/python3.7/site-packages/tensorflow/python/util/deprecation.py\u001b[0m in \u001b[0;36mnew_func\u001b[0;34m(*args, **kwargs)\u001b[0m\n\u001b[1;32m    322\u001b[0m               \u001b[0;34m'in a future version'\u001b[0m \u001b[0;32mif\u001b[0m \u001b[0mdate\u001b[0m \u001b[0;32mis\u001b[0m \u001b[0;32mNone\u001b[0m \u001b[0;32melse\u001b[0m \u001b[0;34m(\u001b[0m\u001b[0;34m'after %s'\u001b[0m \u001b[0;34m%\u001b[0m \u001b[0mdate\u001b[0m\u001b[0;34m)\u001b[0m\u001b[0;34m,\u001b[0m\u001b[0;34m\u001b[0m\u001b[0;34m\u001b[0m\u001b[0m\n\u001b[1;32m    323\u001b[0m               instructions)\n\u001b[0;32m--> 324\u001b[0;31m       \u001b[0;32mreturn\u001b[0m \u001b[0mfunc\u001b[0m\u001b[0;34m(\u001b[0m\u001b[0;34m*\u001b[0m\u001b[0margs\u001b[0m\u001b[0;34m,\u001b[0m \u001b[0;34m**\u001b[0m\u001b[0mkwargs\u001b[0m\u001b[0;34m)\u001b[0m\u001b[0;34m\u001b[0m\u001b[0;34m\u001b[0m\u001b[0m\n\u001b[0m\u001b[1;32m    325\u001b[0m     return tf_decorator.make_decorator(\n\u001b[1;32m    326\u001b[0m         \u001b[0mfunc\u001b[0m\u001b[0;34m,\u001b[0m \u001b[0mnew_func\u001b[0m\u001b[0;34m,\u001b[0m \u001b[0;34m'deprecated'\u001b[0m\u001b[0;34m,\u001b[0m\u001b[0;34m\u001b[0m\u001b[0;34m\u001b[0m\u001b[0m\n",
      "\u001b[0;32m/opt/conda/lib/python3.7/site-packages/tensorflow/python/keras/engine/sequential.py\u001b[0m in \u001b[0;36mpredict_classes\u001b[0;34m(self, x, batch_size, verbose)\u001b[0m\n\u001b[1;32m    451\u001b[0m         \u001b[0mA\u001b[0m \u001b[0mnumpy\u001b[0m \u001b[0marray\u001b[0m \u001b[0mof\u001b[0m \u001b[0;32mclass\u001b[0m \u001b[0mpredictions\u001b[0m\u001b[0;34m.\u001b[0m\u001b[0;34m\u001b[0m\u001b[0;34m\u001b[0m\u001b[0m\n\u001b[1;32m    452\u001b[0m     \"\"\"\n\u001b[0;32m--> 453\u001b[0;31m     \u001b[0mproba\u001b[0m \u001b[0;34m=\u001b[0m \u001b[0mself\u001b[0m\u001b[0;34m.\u001b[0m\u001b[0mpredict\u001b[0m\u001b[0;34m(\u001b[0m\u001b[0mx\u001b[0m\u001b[0;34m,\u001b[0m \u001b[0mbatch_size\u001b[0m\u001b[0;34m=\u001b[0m\u001b[0mbatch_size\u001b[0m\u001b[0;34m,\u001b[0m \u001b[0mverbose\u001b[0m\u001b[0;34m=\u001b[0m\u001b[0mverbose\u001b[0m\u001b[0;34m)\u001b[0m\u001b[0;34m\u001b[0m\u001b[0;34m\u001b[0m\u001b[0m\n\u001b[0m\u001b[1;32m    454\u001b[0m     \u001b[0;32mif\u001b[0m \u001b[0mproba\u001b[0m\u001b[0;34m.\u001b[0m\u001b[0mshape\u001b[0m\u001b[0;34m[\u001b[0m\u001b[0;34m-\u001b[0m\u001b[0;36m1\u001b[0m\u001b[0;34m]\u001b[0m \u001b[0;34m>\u001b[0m \u001b[0;36m1\u001b[0m\u001b[0;34m:\u001b[0m\u001b[0;34m\u001b[0m\u001b[0;34m\u001b[0m\u001b[0m\n\u001b[1;32m    455\u001b[0m       \u001b[0;32mreturn\u001b[0m \u001b[0mproba\u001b[0m\u001b[0;34m.\u001b[0m\u001b[0margmax\u001b[0m\u001b[0;34m(\u001b[0m\u001b[0maxis\u001b[0m\u001b[0;34m=\u001b[0m\u001b[0;34m-\u001b[0m\u001b[0;36m1\u001b[0m\u001b[0;34m)\u001b[0m\u001b[0;34m\u001b[0m\u001b[0;34m\u001b[0m\u001b[0m\n",
      "\u001b[0;32m/opt/conda/lib/python3.7/site-packages/tensorflow/python/keras/engine/training.py\u001b[0m in \u001b[0;36m_method_wrapper\u001b[0;34m(self, *args, **kwargs)\u001b[0m\n\u001b[1;32m    128\u001b[0m       raise ValueError('{} is not supported in multi-worker mode.'.format(\n\u001b[1;32m    129\u001b[0m           method.__name__))\n\u001b[0;32m--> 130\u001b[0;31m     \u001b[0;32mreturn\u001b[0m \u001b[0mmethod\u001b[0m\u001b[0;34m(\u001b[0m\u001b[0mself\u001b[0m\u001b[0;34m,\u001b[0m \u001b[0;34m*\u001b[0m\u001b[0margs\u001b[0m\u001b[0;34m,\u001b[0m \u001b[0;34m**\u001b[0m\u001b[0mkwargs\u001b[0m\u001b[0;34m)\u001b[0m\u001b[0;34m\u001b[0m\u001b[0;34m\u001b[0m\u001b[0m\n\u001b[0m\u001b[1;32m    131\u001b[0m \u001b[0;34m\u001b[0m\u001b[0m\n\u001b[1;32m    132\u001b[0m   return tf_decorator.make_decorator(\n",
      "\u001b[0;32m/opt/conda/lib/python3.7/site-packages/tensorflow/python/keras/engine/training.py\u001b[0m in \u001b[0;36mpredict\u001b[0;34m(self, x, batch_size, verbose, steps, callbacks, max_queue_size, workers, use_multiprocessing)\u001b[0m\n\u001b[1;32m   1597\u001b[0m           \u001b[0;32mfor\u001b[0m \u001b[0mstep\u001b[0m \u001b[0;32min\u001b[0m \u001b[0mdata_handler\u001b[0m\u001b[0;34m.\u001b[0m\u001b[0msteps\u001b[0m\u001b[0;34m(\u001b[0m\u001b[0;34m)\u001b[0m\u001b[0;34m:\u001b[0m\u001b[0;34m\u001b[0m\u001b[0;34m\u001b[0m\u001b[0m\n\u001b[1;32m   1598\u001b[0m             \u001b[0mcallbacks\u001b[0m\u001b[0;34m.\u001b[0m\u001b[0mon_predict_batch_begin\u001b[0m\u001b[0;34m(\u001b[0m\u001b[0mstep\u001b[0m\u001b[0;34m)\u001b[0m\u001b[0;34m\u001b[0m\u001b[0;34m\u001b[0m\u001b[0m\n\u001b[0;32m-> 1599\u001b[0;31m             \u001b[0mtmp_batch_outputs\u001b[0m \u001b[0;34m=\u001b[0m \u001b[0mpredict_function\u001b[0m\u001b[0;34m(\u001b[0m\u001b[0miterator\u001b[0m\u001b[0;34m)\u001b[0m\u001b[0;34m\u001b[0m\u001b[0;34m\u001b[0m\u001b[0m\n\u001b[0m\u001b[1;32m   1600\u001b[0m             \u001b[0;32mif\u001b[0m \u001b[0mdata_handler\u001b[0m\u001b[0;34m.\u001b[0m\u001b[0mshould_sync\u001b[0m\u001b[0;34m:\u001b[0m\u001b[0;34m\u001b[0m\u001b[0;34m\u001b[0m\u001b[0m\n\u001b[1;32m   1601\u001b[0m               \u001b[0mcontext\u001b[0m\u001b[0;34m.\u001b[0m\u001b[0masync_wait\u001b[0m\u001b[0;34m(\u001b[0m\u001b[0;34m)\u001b[0m\u001b[0;34m\u001b[0m\u001b[0;34m\u001b[0m\u001b[0m\n",
      "\u001b[0;32m/opt/conda/lib/python3.7/site-packages/tensorflow/python/eager/def_function.py\u001b[0m in \u001b[0;36m__call__\u001b[0;34m(self, *args, **kwds)\u001b[0m\n\u001b[1;32m    778\u001b[0m       \u001b[0;32melse\u001b[0m\u001b[0;34m:\u001b[0m\u001b[0;34m\u001b[0m\u001b[0;34m\u001b[0m\u001b[0m\n\u001b[1;32m    779\u001b[0m         \u001b[0mcompiler\u001b[0m \u001b[0;34m=\u001b[0m \u001b[0;34m\"nonXla\"\u001b[0m\u001b[0;34m\u001b[0m\u001b[0;34m\u001b[0m\u001b[0m\n\u001b[0;32m--> 780\u001b[0;31m         \u001b[0mresult\u001b[0m \u001b[0;34m=\u001b[0m \u001b[0mself\u001b[0m\u001b[0;34m.\u001b[0m\u001b[0m_call\u001b[0m\u001b[0;34m(\u001b[0m\u001b[0;34m*\u001b[0m\u001b[0margs\u001b[0m\u001b[0;34m,\u001b[0m \u001b[0;34m**\u001b[0m\u001b[0mkwds\u001b[0m\u001b[0;34m)\u001b[0m\u001b[0;34m\u001b[0m\u001b[0;34m\u001b[0m\u001b[0m\n\u001b[0m\u001b[1;32m    781\u001b[0m \u001b[0;34m\u001b[0m\u001b[0m\n\u001b[1;32m    782\u001b[0m       \u001b[0mnew_tracing_count\u001b[0m \u001b[0;34m=\u001b[0m \u001b[0mself\u001b[0m\u001b[0;34m.\u001b[0m\u001b[0m_get_tracing_count\u001b[0m\u001b[0;34m(\u001b[0m\u001b[0;34m)\u001b[0m\u001b[0;34m\u001b[0m\u001b[0;34m\u001b[0m\u001b[0m\n",
      "\u001b[0;32m/opt/conda/lib/python3.7/site-packages/tensorflow/python/eager/def_function.py\u001b[0m in \u001b[0;36m_call\u001b[0;34m(self, *args, **kwds)\u001b[0m\n\u001b[1;32m    812\u001b[0m       \u001b[0;31m# In this case we have not created variables on the first call. So we can\u001b[0m\u001b[0;34m\u001b[0m\u001b[0;34m\u001b[0m\u001b[0;34m\u001b[0m\u001b[0m\n\u001b[1;32m    813\u001b[0m       \u001b[0;31m# run the first trace but we should fail if variables are created.\u001b[0m\u001b[0;34m\u001b[0m\u001b[0;34m\u001b[0m\u001b[0;34m\u001b[0m\u001b[0m\n\u001b[0;32m--> 814\u001b[0;31m       \u001b[0mresults\u001b[0m \u001b[0;34m=\u001b[0m \u001b[0mself\u001b[0m\u001b[0;34m.\u001b[0m\u001b[0m_stateful_fn\u001b[0m\u001b[0;34m(\u001b[0m\u001b[0;34m*\u001b[0m\u001b[0margs\u001b[0m\u001b[0;34m,\u001b[0m \u001b[0;34m**\u001b[0m\u001b[0mkwds\u001b[0m\u001b[0;34m)\u001b[0m\u001b[0;34m\u001b[0m\u001b[0;34m\u001b[0m\u001b[0m\n\u001b[0m\u001b[1;32m    815\u001b[0m       \u001b[0;32mif\u001b[0m \u001b[0mself\u001b[0m\u001b[0;34m.\u001b[0m\u001b[0m_created_variables\u001b[0m\u001b[0;34m:\u001b[0m\u001b[0;34m\u001b[0m\u001b[0;34m\u001b[0m\u001b[0m\n\u001b[1;32m    816\u001b[0m         raise ValueError(\"Creating variables on a non-first call to a function\"\n",
      "\u001b[0;32m/opt/conda/lib/python3.7/site-packages/tensorflow/python/eager/function.py\u001b[0m in \u001b[0;36m__call__\u001b[0;34m(self, *args, **kwargs)\u001b[0m\n\u001b[1;32m   2826\u001b[0m     \u001b[0;34m\"\"\"Calls a graph function specialized to the inputs.\"\"\"\u001b[0m\u001b[0;34m\u001b[0m\u001b[0;34m\u001b[0m\u001b[0m\n\u001b[1;32m   2827\u001b[0m     \u001b[0;32mwith\u001b[0m \u001b[0mself\u001b[0m\u001b[0;34m.\u001b[0m\u001b[0m_lock\u001b[0m\u001b[0;34m:\u001b[0m\u001b[0;34m\u001b[0m\u001b[0;34m\u001b[0m\u001b[0m\n\u001b[0;32m-> 2828\u001b[0;31m       \u001b[0mgraph_function\u001b[0m\u001b[0;34m,\u001b[0m \u001b[0margs\u001b[0m\u001b[0;34m,\u001b[0m \u001b[0mkwargs\u001b[0m \u001b[0;34m=\u001b[0m \u001b[0mself\u001b[0m\u001b[0;34m.\u001b[0m\u001b[0m_maybe_define_function\u001b[0m\u001b[0;34m(\u001b[0m\u001b[0margs\u001b[0m\u001b[0;34m,\u001b[0m \u001b[0mkwargs\u001b[0m\u001b[0;34m)\u001b[0m\u001b[0;34m\u001b[0m\u001b[0;34m\u001b[0m\u001b[0m\n\u001b[0m\u001b[1;32m   2829\u001b[0m     \u001b[0;32mreturn\u001b[0m \u001b[0mgraph_function\u001b[0m\u001b[0;34m.\u001b[0m\u001b[0m_filtered_call\u001b[0m\u001b[0;34m(\u001b[0m\u001b[0margs\u001b[0m\u001b[0;34m,\u001b[0m \u001b[0mkwargs\u001b[0m\u001b[0;34m)\u001b[0m  \u001b[0;31m# pylint: disable=protected-access\u001b[0m\u001b[0;34m\u001b[0m\u001b[0;34m\u001b[0m\u001b[0m\n\u001b[1;32m   2830\u001b[0m \u001b[0;34m\u001b[0m\u001b[0m\n",
      "\u001b[0;32m/opt/conda/lib/python3.7/site-packages/tensorflow/python/eager/function.py\u001b[0m in \u001b[0;36m_maybe_define_function\u001b[0;34m(self, args, kwargs)\u001b[0m\n\u001b[1;32m   3208\u001b[0m           \u001b[0;32mand\u001b[0m \u001b[0mself\u001b[0m\u001b[0;34m.\u001b[0m\u001b[0minput_signature\u001b[0m \u001b[0;32mis\u001b[0m \u001b[0;32mNone\u001b[0m\u001b[0;34m\u001b[0m\u001b[0;34m\u001b[0m\u001b[0m\n\u001b[1;32m   3209\u001b[0m           and call_context_key in self._function_cache.missed):\n\u001b[0;32m-> 3210\u001b[0;31m         \u001b[0;32mreturn\u001b[0m \u001b[0mself\u001b[0m\u001b[0;34m.\u001b[0m\u001b[0m_define_function_with_shape_relaxation\u001b[0m\u001b[0;34m(\u001b[0m\u001b[0margs\u001b[0m\u001b[0;34m,\u001b[0m \u001b[0mkwargs\u001b[0m\u001b[0;34m)\u001b[0m\u001b[0;34m\u001b[0m\u001b[0;34m\u001b[0m\u001b[0m\n\u001b[0m\u001b[1;32m   3211\u001b[0m \u001b[0;34m\u001b[0m\u001b[0m\n\u001b[1;32m   3212\u001b[0m       \u001b[0mself\u001b[0m\u001b[0;34m.\u001b[0m\u001b[0m_function_cache\u001b[0m\u001b[0;34m.\u001b[0m\u001b[0mmissed\u001b[0m\u001b[0;34m.\u001b[0m\u001b[0madd\u001b[0m\u001b[0;34m(\u001b[0m\u001b[0mcall_context_key\u001b[0m\u001b[0;34m)\u001b[0m\u001b[0;34m\u001b[0m\u001b[0;34m\u001b[0m\u001b[0m\n",
      "\u001b[0;32m/opt/conda/lib/python3.7/site-packages/tensorflow/python/eager/function.py\u001b[0m in \u001b[0;36m_define_function_with_shape_relaxation\u001b[0;34m(self, args, kwargs)\u001b[0m\n\u001b[1;32m   3140\u001b[0m \u001b[0;34m\u001b[0m\u001b[0m\n\u001b[1;32m   3141\u001b[0m     graph_function = self._create_graph_function(\n\u001b[0;32m-> 3142\u001b[0;31m         args, kwargs, override_flat_arg_shapes=relaxed_arg_shapes)\n\u001b[0m\u001b[1;32m   3143\u001b[0m     \u001b[0mself\u001b[0m\u001b[0;34m.\u001b[0m\u001b[0m_function_cache\u001b[0m\u001b[0;34m.\u001b[0m\u001b[0marg_relaxed\u001b[0m\u001b[0;34m[\u001b[0m\u001b[0mrank_only_cache_key\u001b[0m\u001b[0;34m]\u001b[0m \u001b[0;34m=\u001b[0m \u001b[0mgraph_function\u001b[0m\u001b[0;34m\u001b[0m\u001b[0;34m\u001b[0m\u001b[0m\n\u001b[1;32m   3144\u001b[0m \u001b[0;34m\u001b[0m\u001b[0m\n",
      "\u001b[0;32m/opt/conda/lib/python3.7/site-packages/tensorflow/python/eager/function.py\u001b[0m in \u001b[0;36m_create_graph_function\u001b[0;34m(self, args, kwargs, override_flat_arg_shapes)\u001b[0m\n\u001b[1;32m   3073\u001b[0m             \u001b[0marg_names\u001b[0m\u001b[0;34m=\u001b[0m\u001b[0marg_names\u001b[0m\u001b[0;34m,\u001b[0m\u001b[0;34m\u001b[0m\u001b[0;34m\u001b[0m\u001b[0m\n\u001b[1;32m   3074\u001b[0m             \u001b[0moverride_flat_arg_shapes\u001b[0m\u001b[0;34m=\u001b[0m\u001b[0moverride_flat_arg_shapes\u001b[0m\u001b[0;34m,\u001b[0m\u001b[0;34m\u001b[0m\u001b[0;34m\u001b[0m\u001b[0m\n\u001b[0;32m-> 3075\u001b[0;31m             capture_by_value=self._capture_by_value),\n\u001b[0m\u001b[1;32m   3076\u001b[0m         \u001b[0mself\u001b[0m\u001b[0;34m.\u001b[0m\u001b[0m_function_attributes\u001b[0m\u001b[0;34m,\u001b[0m\u001b[0;34m\u001b[0m\u001b[0;34m\u001b[0m\u001b[0m\n\u001b[1;32m   3077\u001b[0m         \u001b[0mfunction_spec\u001b[0m\u001b[0;34m=\u001b[0m\u001b[0mself\u001b[0m\u001b[0;34m.\u001b[0m\u001b[0mfunction_spec\u001b[0m\u001b[0;34m,\u001b[0m\u001b[0;34m\u001b[0m\u001b[0;34m\u001b[0m\u001b[0m\n",
      "\u001b[0;32m/opt/conda/lib/python3.7/site-packages/tensorflow/python/framework/func_graph.py\u001b[0m in \u001b[0;36mfunc_graph_from_py_func\u001b[0;34m(name, python_func, args, kwargs, signature, func_graph, autograph, autograph_options, add_control_dependencies, arg_names, op_return_value, collections, capture_by_value, override_flat_arg_shapes)\u001b[0m\n\u001b[1;32m    984\u001b[0m         \u001b[0m_\u001b[0m\u001b[0;34m,\u001b[0m \u001b[0moriginal_func\u001b[0m \u001b[0;34m=\u001b[0m \u001b[0mtf_decorator\u001b[0m\u001b[0;34m.\u001b[0m\u001b[0munwrap\u001b[0m\u001b[0;34m(\u001b[0m\u001b[0mpython_func\u001b[0m\u001b[0;34m)\u001b[0m\u001b[0;34m\u001b[0m\u001b[0;34m\u001b[0m\u001b[0m\n\u001b[1;32m    985\u001b[0m \u001b[0;34m\u001b[0m\u001b[0m\n\u001b[0;32m--> 986\u001b[0;31m       \u001b[0mfunc_outputs\u001b[0m \u001b[0;34m=\u001b[0m \u001b[0mpython_func\u001b[0m\u001b[0;34m(\u001b[0m\u001b[0;34m*\u001b[0m\u001b[0mfunc_args\u001b[0m\u001b[0;34m,\u001b[0m \u001b[0;34m**\u001b[0m\u001b[0mfunc_kwargs\u001b[0m\u001b[0;34m)\u001b[0m\u001b[0;34m\u001b[0m\u001b[0;34m\u001b[0m\u001b[0m\n\u001b[0m\u001b[1;32m    987\u001b[0m \u001b[0;34m\u001b[0m\u001b[0m\n\u001b[1;32m    988\u001b[0m       \u001b[0;31m# invariant: `func_outputs` contains only Tensors, CompositeTensors,\u001b[0m\u001b[0;34m\u001b[0m\u001b[0;34m\u001b[0m\u001b[0;34m\u001b[0m\u001b[0m\n",
      "\u001b[0;32m/opt/conda/lib/python3.7/site-packages/tensorflow/python/eager/def_function.py\u001b[0m in \u001b[0;36mwrapped_fn\u001b[0;34m(*args, **kwds)\u001b[0m\n\u001b[1;32m    598\u001b[0m         \u001b[0;31m# __wrapped__ allows AutoGraph to swap in a converted function. We give\u001b[0m\u001b[0;34m\u001b[0m\u001b[0;34m\u001b[0m\u001b[0;34m\u001b[0m\u001b[0m\n\u001b[1;32m    599\u001b[0m         \u001b[0;31m# the function a weak reference to itself to avoid a reference cycle.\u001b[0m\u001b[0;34m\u001b[0m\u001b[0;34m\u001b[0m\u001b[0;34m\u001b[0m\u001b[0m\n\u001b[0;32m--> 600\u001b[0;31m         \u001b[0;32mreturn\u001b[0m \u001b[0mweak_wrapped_fn\u001b[0m\u001b[0;34m(\u001b[0m\u001b[0;34m)\u001b[0m\u001b[0;34m.\u001b[0m\u001b[0m__wrapped__\u001b[0m\u001b[0;34m(\u001b[0m\u001b[0;34m*\u001b[0m\u001b[0margs\u001b[0m\u001b[0;34m,\u001b[0m \u001b[0;34m**\u001b[0m\u001b[0mkwds\u001b[0m\u001b[0;34m)\u001b[0m\u001b[0;34m\u001b[0m\u001b[0;34m\u001b[0m\u001b[0m\n\u001b[0m\u001b[1;32m    601\u001b[0m     \u001b[0mweak_wrapped_fn\u001b[0m \u001b[0;34m=\u001b[0m \u001b[0mweakref\u001b[0m\u001b[0;34m.\u001b[0m\u001b[0mref\u001b[0m\u001b[0;34m(\u001b[0m\u001b[0mwrapped_fn\u001b[0m\u001b[0;34m)\u001b[0m\u001b[0;34m\u001b[0m\u001b[0;34m\u001b[0m\u001b[0m\n\u001b[1;32m    602\u001b[0m \u001b[0;34m\u001b[0m\u001b[0m\n",
      "\u001b[0;32m/opt/conda/lib/python3.7/site-packages/tensorflow/python/framework/func_graph.py\u001b[0m in \u001b[0;36mwrapper\u001b[0;34m(*args, **kwargs)\u001b[0m\n\u001b[1;32m    971\u001b[0m           \u001b[0;32mexcept\u001b[0m \u001b[0mException\u001b[0m \u001b[0;32mas\u001b[0m \u001b[0me\u001b[0m\u001b[0;34m:\u001b[0m  \u001b[0;31m# pylint:disable=broad-except\u001b[0m\u001b[0;34m\u001b[0m\u001b[0;34m\u001b[0m\u001b[0m\n\u001b[1;32m    972\u001b[0m             \u001b[0;32mif\u001b[0m \u001b[0mhasattr\u001b[0m\u001b[0;34m(\u001b[0m\u001b[0me\u001b[0m\u001b[0;34m,\u001b[0m \u001b[0;34m\"ag_error_metadata\"\u001b[0m\u001b[0;34m)\u001b[0m\u001b[0;34m:\u001b[0m\u001b[0;34m\u001b[0m\u001b[0;34m\u001b[0m\u001b[0m\n\u001b[0;32m--> 973\u001b[0;31m               \u001b[0;32mraise\u001b[0m \u001b[0me\u001b[0m\u001b[0;34m.\u001b[0m\u001b[0mag_error_metadata\u001b[0m\u001b[0;34m.\u001b[0m\u001b[0mto_exception\u001b[0m\u001b[0;34m(\u001b[0m\u001b[0me\u001b[0m\u001b[0;34m)\u001b[0m\u001b[0;34m\u001b[0m\u001b[0;34m\u001b[0m\u001b[0m\n\u001b[0m\u001b[1;32m    974\u001b[0m             \u001b[0;32melse\u001b[0m\u001b[0;34m:\u001b[0m\u001b[0;34m\u001b[0m\u001b[0;34m\u001b[0m\u001b[0m\n\u001b[1;32m    975\u001b[0m               \u001b[0;32mraise\u001b[0m\u001b[0;34m\u001b[0m\u001b[0;34m\u001b[0m\u001b[0m\n",
      "\u001b[0;31mValueError\u001b[0m: in user code:\n\n    /opt/conda/lib/python3.7/site-packages/tensorflow/python/keras/engine/training.py:1462 predict_function  *\n        return step_function(self, iterator)\n    /opt/conda/lib/python3.7/site-packages/tensorflow/python/keras/engine/training.py:1452 step_function  **\n        outputs = model.distribute_strategy.run(run_step, args=(data,))\n    /opt/conda/lib/python3.7/site-packages/tensorflow/python/distribute/distribute_lib.py:1211 run\n        return self._extended.call_for_each_replica(fn, args=args, kwargs=kwargs)\n    /opt/conda/lib/python3.7/site-packages/tensorflow/python/distribute/distribute_lib.py:2585 call_for_each_replica\n        return self._call_for_each_replica(fn, args, kwargs)\n    /opt/conda/lib/python3.7/site-packages/tensorflow/python/distribute/distribute_lib.py:2945 _call_for_each_replica\n        return fn(*args, **kwargs)\n    /opt/conda/lib/python3.7/site-packages/tensorflow/python/keras/engine/training.py:1445 run_step  **\n        outputs = model.predict_step(data)\n    /opt/conda/lib/python3.7/site-packages/tensorflow/python/keras/engine/training.py:1418 predict_step\n        return self(x, training=False)\n    /opt/conda/lib/python3.7/site-packages/tensorflow/python/keras/engine/base_layer.py:976 __call__\n        self.name)\n    /opt/conda/lib/python3.7/site-packages/tensorflow/python/keras/engine/input_spec.py:216 assert_input_compatibility\n        ' but received input with shape ' + str(shape))\n\n    ValueError: Input 0 of layer sequential_12 is incompatible with the layer: expected axis -1 of input shape to have value 1 but received input with shape [None, None, None, 3]\n"
     ]
    },
    {
     "data": {
      "image/png": "[encoded data removed]",
      "text/plain": [
       "<Figure size 432x288 with 1 Axes>"
      ]
     },
     "metadata": {
      "needs_background": "light"
     },
     "output_type": "display_data"
    }
   ],
   "source": [
    "# print(type(test_generator.next()[0][0]))\n",
    "import matplotlib.pyplot as plt\n",
    "from keras.preprocessing import image\n",
    "from PIL import Image\n",
    "test_image = image.load_img('../input/image-dataset/_train/dog/dog_0150.jpg') #Enter Path of any Image\n",
    "plt.imshow(test_image)\n",
    "plt.title('This is my Image for Testing')\n",
    "test_image = test_image.resize((227, 227), Image.ANTIALIAS)\n",
    "test_image = image.img_to_array(test_image)\n",
    "test_image = np.expand_dims(test_image,axis=0)\n",
    "print(\"This Image Belongs to Label: \",model.predict_classes(test_image)[0])"
   ]
  },
  {
   "cell_type": "code",
   "execution_count": null,
   "metadata": {},
   "outputs": [],
   "source": [
    "'airplane': 0,\n",
    " 'car': 1,\n",
    " 'dog': 2,\n",
    " 'flower': 3,\n",
    " 'fruit': 4,\n",
    " 'motorbike': 5,\n",
    " 'person': 6}"
   ]
  },
  {
   "cell_type": "code",
   "execution_count": 90,
   "metadata": {},
   "outputs": [
    {
     "name": "stdout",
     "output_type": "stream",
     "text": [
      "17/17 [==============================] - 2s 123ms/step\n"
     ]
    }
   ],
   "source": [
    "test_generator.reset()\n",
    "pred=model.predict_generator(test_generator,\n",
    "steps=STEP_SIZE_TEST,\n",
    "verbose=1)\n"
   ]
  },
  {
   "cell_type": "markdown",
   "metadata": {},
   "source": [
    "#  **LeNet Implementation**"
   ]
  },
  {
   "cell_type": "code",
   "execution_count": 34,
   "metadata": {},
   "outputs": [],
   "source": [
    "import keras\n",
    "import tensorflow as tf\n",
    "import keras.layers as layers\n",
    "from keras.models import Sequential\n",
    "from keras.preprocessing.image import ImageDataGenerator"
   ]
  },
  {
   "cell_type": "code",
   "execution_count": 35,
   "metadata": {},
   "outputs": [],
   "source": [
    "datagen=ImageDataGenerator(rescale=1./255.)"
   ]
  },
  {
   "cell_type": "code",
   "execution_count": 36,
   "metadata": {},
   "outputs": [
    {
     "name": "stdout",
     "output_type": "stream",
     "text": [
      "Found 5162 validated image filenames belonging to 7 classes.\n",
      "Found 852 validated image filenames belonging to 7 classes.\n"
     ]
    }
   ],
   "source": [
    "train_generator=datagen.flow_from_dataframe(\n",
    "dataframe=df_train,\n",
    "directory=None,\n",
    "x_col=\"Path\",\n",
    "y_col=\"Label\",\n",
    "subset=\"training\",\n",
    "batch_size=32,\n",
    "seed=42,\n",
    "shuffle=True,\n",
    "class_mode=\"categorical\",\n",
    "target_size=(32,32))\n",
    "\n",
    "test_datagen=ImageDataGenerator(rescale=1./255.)\n",
    "test_generator=test_datagen.flow_from_dataframe(\n",
    "dataframe=df_test,\n",
    "directory=None,\n",
    "x_col=\"Path\",\n",
    "y_col=\"Label\",\n",
    "batch_size=32,\n",
    "seed=42,\n",
    "shuffle=False,\n",
    "class_mode=\"categorical\",\n",
    "target_size=(32,32))"
   ]
  },
  {
   "cell_type": "code",
   "execution_count": 53,
   "metadata": {},
   "outputs": [
    {
     "data": {
      "text/plain": [
       "(32, 32, 32, 3)"
      ]
     },
     "execution_count": 53,
     "metadata": {},
     "output_type": "execute_result"
    }
   ],
   "source": [
    "x=train_generator[0][0]\n",
    "x.shape"
   ]
  },
  {
   "cell_type": "code",
   "execution_count": 54,
   "metadata": {},
   "outputs": [],
   "source": [
    "model_LeNet = keras.Sequential()\n",
    "\n",
    "model_LeNet.add(layers.Conv2D(filters=6, kernel_size=(3, 3), activation='relu', input_shape=(32,32,3)))\n",
    "model_LeNet.add(layers.AveragePooling2D())\n",
    "\n",
    "model_LeNet.add(layers.Conv2D(filters=16, kernel_size=(3, 3), activation='relu'))\n",
    "model_LeNet.add(layers.AveragePooling2D())\n",
    "\n",
    "model_LeNet.add(layers.Flatten())\n",
    "\n",
    "model_LeNet.add(layers.Dense(units=120, activation='relu'))\n",
    "\n",
    "model_LeNet.add(layers.Dense(units=84, activation='relu'))\n",
    "\n",
    "model_LeNet.add(layers.Dense(units=7, activation = 'softmax'))"
   ]
  },
  {
   "cell_type": "code",
   "execution_count": 55,
   "metadata": {},
   "outputs": [
    {
     "name": "stdout",
     "output_type": "stream",
     "text": [
      "Model: \"sequential_2\"\n",
      "_________________________________________________________________\n",
      "Layer (type)                 Output Shape              Param #   \n",
      "=================================================================\n",
      "conv2d_4 (Conv2D)            (None, 30, 30, 6)         168       \n",
      "_________________________________________________________________\n",
      "average_pooling2d_4 (Average (None, 15, 15, 6)         0         \n",
      "_________________________________________________________________\n",
      "conv2d_5 (Conv2D)            (None, 13, 13, 16)        880       \n",
      "_________________________________________________________________\n",
      "average_pooling2d_5 (Average (None, 6, 6, 16)          0         \n",
      "_________________________________________________________________\n",
      "flatten_2 (Flatten)          (None, 576)               0         \n",
      "_________________________________________________________________\n",
      "dense_6 (Dense)              (None, 120)               69240     \n",
      "_________________________________________________________________\n",
      "dense_7 (Dense)              (None, 84)                10164     \n",
      "_________________________________________________________________\n",
      "dense_8 (Dense)              (None, 7)                 595       \n",
      "=================================================================\n",
      "Total params: 81,047\n",
      "Trainable params: 81,047\n",
      "Non-trainable params: 0\n",
      "_________________________________________________________________\n"
     ]
    }
   ],
   "source": [
    "model_LeNet.summary()"
   ]
  },
  {
   "cell_type": "code",
   "execution_count": 56,
   "metadata": {},
   "outputs": [],
   "source": [
    "model_LeNet.compile(loss='categorical_crossentropy', optimizer=tf.optimizers.SGD(lr=0.001), metrics=['accuracy'])"
   ]
  },
  {
   "cell_type": "code",
   "execution_count": 57,
   "metadata": {},
   "outputs": [
    {
     "data": {
      "text/plain": [
       "\"checkpoint_filepath = './Checkpoint'\\nmodel_checkpoint_callback = tf.keras.callbacks.ModelCheckpoint(\\n    filepath=checkpoint_filepath,\\n    save_weights_only=False,\\n    monitor='val_accuracy',\\n    mode='max',\\n    save_best_only=True)\\n\\n# Model weights are saved at the end of every epoch, if it's the best seen\\n# so far.\\n#model.fit(epochs=EPOCHS, callbacks=[model_checkpoint_callback])\\n\\n# The model weights (that are considered the best) are loaded into the model.\\n#model.load_weights(checkpoint_filepath)\""
      ]
     },
     "execution_count": 57,
     "metadata": {},
     "output_type": "execute_result"
    }
   ],
   "source": [
    "\n",
    "\"\"\"checkpoint_filepath = './Checkpoint'\n",
    "model_checkpoint_callback = tf.keras.callbacks.ModelCheckpoint(\n",
    "    filepath=checkpoint_filepath,\n",
    "    save_weights_only=False,\n",
    "    monitor='val_accuracy',\n",
    "    mode='max',\n",
    "    save_best_only=True)\n",
    "\n",
    "# Model weights are saved at the end of every epoch, if it's the best seen\n",
    "# so far.\n",
    "#model.fit(epochs=EPOCHS, callbacks=[model_checkpoint_callback])\n",
    "\n",
    "# The model weights (that are considered the best) are loaded into the model.\n",
    "#model.load_weights(checkpoint_filepath)\"\"\""
   ]
  },
  {
   "cell_type": "code",
   "execution_count": 58,
   "metadata": {},
   "outputs": [
    {
     "name": "stdout",
     "output_type": "stream",
     "text": [
      "Epoch 1/100\n",
      "161/161 [==============================] - 8s 48ms/step - loss: 1.9301 - accuracy: 0.1682\n",
      "Epoch 2/100\n",
      "161/161 [==============================] - 8s 49ms/step - loss: 1.9097 - accuracy: 0.1690\n",
      "Epoch 3/100\n",
      "161/161 [==============================] - 8s 50ms/step - loss: 1.8896 - accuracy: 0.1803\n",
      "Epoch 4/100\n",
      "161/161 [==============================] - 8s 47ms/step - loss: 1.8666 - accuracy: 0.2103\n",
      "Epoch 5/100\n",
      "161/161 [==============================] - 8s 48ms/step - loss: 1.8396 - accuracy: 0.2556\n",
      "Epoch 6/100\n",
      "161/161 [==============================] - 8s 48ms/step - loss: 1.8054 - accuracy: 0.3084\n",
      "Epoch 7/100\n",
      "161/161 [==============================] - 8s 49ms/step - loss: 1.7590 - accuracy: 0.3573\n",
      "Epoch 8/100\n",
      "161/161 [==============================] - 8s 48ms/step - loss: 1.6989 - accuracy: 0.4101\n",
      "Epoch 9/100\n",
      "161/161 [==============================] - 8s 48ms/step - loss: 1.6231 - accuracy: 0.4645\n",
      "Epoch 10/100\n",
      "161/161 [==============================] - 8s 48ms/step - loss: 1.5362 - accuracy: 0.5076\n",
      "Epoch 11/100\n",
      "161/161 [==============================] - 8s 48ms/step - loss: 1.4456 - accuracy: 0.5462\n",
      "Epoch 12/100\n",
      "161/161 [==============================] - 8s 48ms/step - loss: 1.3600 - accuracy: 0.5694\n",
      "Epoch 13/100\n",
      "161/161 [==============================] - 8s 50ms/step - loss: 1.2902 - accuracy: 0.5856\n",
      "Epoch 14/100\n",
      "161/161 [==============================] - 8s 47ms/step - loss: 1.2333 - accuracy: 0.5990\n",
      "Epoch 15/100\n",
      "161/161 [==============================] - 8s 49ms/step - loss: 1.1893 - accuracy: 0.6086\n",
      "Epoch 16/100\n",
      "161/161 [==============================] - 8s 47ms/step - loss: 1.1534 - accuracy: 0.6222\n",
      "Epoch 17/100\n",
      "161/161 [==============================] - 8s 49ms/step - loss: 1.1210 - accuracy: 0.6314\n",
      "Epoch 18/100\n",
      "161/161 [==============================] - 8s 50ms/step - loss: 1.0943 - accuracy: 0.6384\n",
      "Epoch 19/100\n",
      "161/161 [==============================] - 9s 54ms/step - loss: 1.0692 - accuracy: 0.6454\n",
      "Epoch 20/100\n",
      "161/161 [==============================] - 8s 52ms/step - loss: 1.0455 - accuracy: 0.6563\n",
      "Epoch 21/100\n",
      "161/161 [==============================] - 8s 52ms/step - loss: 1.0241 - accuracy: 0.6595\n",
      "Epoch 22/100\n",
      "161/161 [==============================] - 7s 46ms/step - loss: 1.0024 - accuracy: 0.6657\n",
      "Epoch 23/100\n",
      "161/161 [==============================] - 8s 47ms/step - loss: 0.9808 - accuracy: 0.6747\n",
      "Epoch 24/100\n",
      "161/161 [==============================] - 8s 48ms/step - loss: 0.9597 - accuracy: 0.6791\n",
      "Epoch 25/100\n",
      "161/161 [==============================] - 8s 50ms/step - loss: 0.9404 - accuracy: 0.6895\n",
      "Epoch 26/100\n",
      "161/161 [==============================] - 8s 50ms/step - loss: 0.9251 - accuracy: 0.6912\n",
      "Epoch 27/100\n",
      "161/161 [==============================] - 8s 50ms/step - loss: 0.9040 - accuracy: 0.6975\n",
      "Epoch 28/100\n",
      "161/161 [==============================] - 8s 51ms/step - loss: 0.8845 - accuracy: 0.7049\n",
      "Epoch 29/100\n",
      "161/161 [==============================] - 8s 48ms/step - loss: 0.8697 - accuracy: 0.7094\n",
      "Epoch 30/100\n",
      "161/161 [==============================] - 8s 49ms/step - loss: 0.8504 - accuracy: 0.7103\n",
      "Epoch 31/100\n",
      "161/161 [==============================] - 7s 46ms/step - loss: 0.8388 - accuracy: 0.7138\n",
      "Epoch 32/100\n",
      "161/161 [==============================] - 8s 47ms/step - loss: 0.8226 - accuracy: 0.7168\n",
      "Epoch 33/100\n",
      "161/161 [==============================] - 8s 51ms/step - loss: 0.8087 - accuracy: 0.7224\n",
      "Epoch 34/100\n",
      "161/161 [==============================] - 8s 51ms/step - loss: 0.7936 - accuracy: 0.7296\n",
      "Epoch 35/100\n",
      "161/161 [==============================] - 8s 49ms/step - loss: 0.7823 - accuracy: 0.7292\n",
      "Epoch 36/100\n",
      "161/161 [==============================] - 8s 47ms/step - loss: 0.7730 - accuracy: 0.7327\n",
      "Epoch 37/100\n",
      "161/161 [==============================] - 7s 46ms/step - loss: 0.7620 - accuracy: 0.7337\n",
      "Epoch 38/100\n",
      "161/161 [==============================] - 8s 48ms/step - loss: 0.7527 - accuracy: 0.7382\n",
      "Epoch 39/100\n",
      "161/161 [==============================] - 8s 49ms/step - loss: 0.7412 - accuracy: 0.7400\n",
      "Epoch 40/100\n",
      "161/161 [==============================] - 8s 48ms/step - loss: 0.7318 - accuracy: 0.7429\n",
      "Epoch 41/100\n",
      "161/161 [==============================] - 8s 51ms/step - loss: 0.7229 - accuracy: 0.7478\n",
      "Epoch 42/100\n",
      "161/161 [==============================] - 9s 53ms/step - loss: 0.7114 - accuracy: 0.7493\n",
      "Epoch 43/100\n",
      "161/161 [==============================] - 8s 50ms/step - loss: 0.7069 - accuracy: 0.7503\n",
      "Epoch 44/100\n",
      "161/161 [==============================] - 9s 53ms/step - loss: 0.7001 - accuracy: 0.7507\n",
      "Epoch 45/100\n",
      "161/161 [==============================] - 8s 48ms/step - loss: 0.6938 - accuracy: 0.7544\n",
      "Epoch 46/100\n",
      "161/161 [==============================] - 8s 49ms/step - loss: 0.6850 - accuracy: 0.7538\n",
      "Epoch 47/100\n",
      "161/161 [==============================] - 8s 49ms/step - loss: 0.6763 - accuracy: 0.7577\n",
      "Epoch 48/100\n",
      "161/161 [==============================] - 8s 50ms/step - loss: 0.6740 - accuracy: 0.7600\n",
      "Epoch 49/100\n",
      "161/161 [==============================] - 8s 48ms/step - loss: 0.6650 - accuracy: 0.7645\n",
      "Epoch 50/100\n",
      "161/161 [==============================] - 8s 49ms/step - loss: 0.6631 - accuracy: 0.7598\n",
      "Epoch 51/100\n",
      "161/161 [==============================] - 8s 48ms/step - loss: 0.6567 - accuracy: 0.7632\n",
      "Epoch 52/100\n",
      "161/161 [==============================] - 8s 50ms/step - loss: 0.6492 - accuracy: 0.7667\n",
      "Epoch 53/100\n",
      "161/161 [==============================] - 8s 51ms/step - loss: 0.6459 - accuracy: 0.7673\n",
      "Epoch 54/100\n",
      "161/161 [==============================] - 8s 52ms/step - loss: 0.6367 - accuracy: 0.7717\n",
      "Epoch 55/100\n",
      "161/161 [==============================] - 8s 48ms/step - loss: 0.6343 - accuracy: 0.7749\n",
      "Epoch 56/100\n",
      "161/161 [==============================] - 8s 51ms/step - loss: 0.6277 - accuracy: 0.7733\n",
      "Epoch 57/100\n",
      "161/161 [==============================] - 8s 50ms/step - loss: 0.6229 - accuracy: 0.7739\n",
      "Epoch 58/100\n",
      "161/161 [==============================] - 8s 50ms/step - loss: 0.6191 - accuracy: 0.7760\n",
      "Epoch 59/100\n",
      "161/161 [==============================] - 8s 53ms/step - loss: 0.6142 - accuracy: 0.7805\n",
      "Epoch 60/100\n",
      "161/161 [==============================] - 8s 53ms/step - loss: 0.6094 - accuracy: 0.7795\n",
      "Epoch 61/100\n",
      "161/161 [==============================] - 8s 50ms/step - loss: 0.6060 - accuracy: 0.7793\n",
      "Epoch 62/100\n",
      "161/161 [==============================] - 8s 47ms/step - loss: 0.6000 - accuracy: 0.7825\n",
      "Epoch 63/100\n",
      "161/161 [==============================] - 8s 52ms/step - loss: 0.5951 - accuracy: 0.7807\n",
      "Epoch 64/100\n",
      "161/161 [==============================] - 8s 51ms/step - loss: 0.5885 - accuracy: 0.7867\n",
      "Epoch 65/100\n",
      "161/161 [==============================] - 8s 52ms/step - loss: 0.5862 - accuracy: 0.7895\n",
      "Epoch 66/100\n",
      "161/161 [==============================] - 9s 53ms/step - loss: 0.5861 - accuracy: 0.7875\n",
      "Epoch 67/100\n",
      "161/161 [==============================] - 8s 49ms/step - loss: 0.5779 - accuracy: 0.7918\n",
      "Epoch 68/100\n",
      "161/161 [==============================] - 8s 50ms/step - loss: 0.5747 - accuracy: 0.7899\n",
      "Epoch 69/100\n",
      "161/161 [==============================] - 8s 51ms/step - loss: 0.5737 - accuracy: 0.7891\n",
      "Epoch 70/100\n",
      "161/161 [==============================] - 8s 49ms/step - loss: 0.5676 - accuracy: 0.7930\n",
      "Epoch 71/100\n",
      "161/161 [==============================] - 8s 52ms/step - loss: 0.5626 - accuracy: 0.7932\n",
      "Epoch 72/100\n",
      "161/161 [==============================] - 8s 48ms/step - loss: 0.5608 - accuracy: 0.7906\n",
      "Epoch 73/100\n",
      "161/161 [==============================] - 8s 49ms/step - loss: 0.5564 - accuracy: 0.7961\n",
      "Epoch 74/100\n",
      "161/161 [==============================] - 9s 53ms/step - loss: 0.5527 - accuracy: 0.7973\n",
      "Epoch 75/100\n",
      "161/161 [==============================] - 8s 49ms/step - loss: 0.5510 - accuracy: 0.7955\n",
      "Epoch 76/100\n",
      "161/161 [==============================] - 8s 50ms/step - loss: 0.5443 - accuracy: 0.8033\n",
      "Epoch 77/100\n",
      "161/161 [==============================] - 9s 53ms/step - loss: 0.5417 - accuracy: 0.8008\n",
      "Epoch 78/100\n",
      "161/161 [==============================] - 8s 50ms/step - loss: 0.5378 - accuracy: 0.8037\n",
      "Epoch 79/100\n",
      "161/161 [==============================] - 8s 50ms/step - loss: 0.5320 - accuracy: 0.8099\n",
      "Epoch 80/100\n",
      "161/161 [==============================] - 8s 51ms/step - loss: 0.5290 - accuracy: 0.8062\n",
      "Epoch 81/100\n",
      "161/161 [==============================] - 9s 53ms/step - loss: 0.5245 - accuracy: 0.8072\n",
      "Epoch 82/100\n",
      "161/161 [==============================] - 9s 58ms/step - loss: 0.5232 - accuracy: 0.8049\n",
      "Epoch 83/100\n",
      "161/161 [==============================] - 8s 50ms/step - loss: 0.5216 - accuracy: 0.8101\n",
      "Epoch 84/100\n",
      "161/161 [==============================] - 8s 51ms/step - loss: 0.5188 - accuracy: 0.8086\n",
      "Epoch 85/100\n",
      "161/161 [==============================] - 8s 48ms/step - loss: 0.5139 - accuracy: 0.8121\n",
      "Epoch 86/100\n",
      "161/161 [==============================] - 9s 53ms/step - loss: 0.5131 - accuracy: 0.8117\n",
      "Epoch 87/100\n",
      "161/161 [==============================] - 8s 50ms/step - loss: 0.5119 - accuracy: 0.8123\n",
      "Epoch 88/100\n",
      "161/161 [==============================] - 8s 49ms/step - loss: 0.5047 - accuracy: 0.8162\n",
      "Epoch 89/100\n",
      "161/161 [==============================] - 8s 51ms/step - loss: 0.5023 - accuracy: 0.8164\n",
      "Epoch 90/100\n",
      "161/161 [==============================] - 8s 52ms/step - loss: 0.4964 - accuracy: 0.8191\n",
      "Epoch 91/100\n",
      "161/161 [==============================] - 9s 53ms/step - loss: 0.4941 - accuracy: 0.8207\n",
      "Epoch 92/100\n",
      "161/161 [==============================] - 8s 52ms/step - loss: 0.4921 - accuracy: 0.8224\n",
      "Epoch 93/100\n",
      "161/161 [==============================] - 8s 51ms/step - loss: 0.4934 - accuracy: 0.8234\n",
      "Epoch 94/100\n",
      "161/161 [==============================] - 8s 49ms/step - loss: 0.4831 - accuracy: 0.8259\n",
      "Epoch 95/100\n",
      "161/161 [==============================] - 8s 49ms/step - loss: 0.4848 - accuracy: 0.8234\n",
      "Epoch 96/100\n",
      "161/161 [==============================] - 8s 49ms/step - loss: 0.4791 - accuracy: 0.8255\n",
      "Epoch 97/100\n",
      "161/161 [==============================] - 7s 46ms/step - loss: 0.4782 - accuracy: 0.8255\n",
      "Epoch 98/100\n",
      "161/161 [==============================] - 8s 48ms/step - loss: 0.4718 - accuracy: 0.8300\n",
      "Epoch 99/100\n",
      "161/161 [==============================] - 8s 49ms/step - loss: 0.4707 - accuracy: 0.8290\n",
      "Epoch 100/100\n",
      "161/161 [==============================] - 8s 50ms/step - loss: 0.4662 - accuracy: 0.8292\n"
     ]
    },
    {
     "data": {
      "text/plain": [
       "<tensorflow.python.keras.callbacks.History at 0x145db5400>"
      ]
     },
     "execution_count": 58,
     "metadata": {},
     "output_type": "execute_result"
    }
   ],
   "source": [
    "STEP_SIZE_TRAIN=train_generator.n//train_generator.batch_size\n",
    "STEP_SIZE_TEST=test_generator.n//test_generator.batch_size\n",
    "model_LeNet.fit_generator(generator=train_generator,\n",
    "                    steps_per_epoch=STEP_SIZE_TRAIN,\n",
    "                    epochs=100\n",
    ")"
   ]
  },
  {
   "cell_type": "code",
   "execution_count": 60,
   "metadata": {},
   "outputs": [
    {
     "data": {
      "text/plain": [
       "'/Users/imac/Desktop'"
      ]
     },
     "execution_count": 60,
     "metadata": {},
     "output_type": "execute_result"
    }
   ],
   "source": [
    "pwd"
   ]
  },
  {
   "cell_type": "code",
   "execution_count": 61,
   "metadata": {},
   "outputs": [
    {
     "name": "stdout",
     "output_type": "stream",
     "text": [
      "INFO:tensorflow:Assets written to: LeNet-model/assets\n"
     ]
    }
   ],
   "source": [
    "model_LeNet.save(\"LeNet-model\")"
   ]
  },
  {
   "cell_type": "code",
   "execution_count": 62,
   "metadata": {},
   "outputs": [],
   "source": [
    "# It can be used to reconstruct the model identically.\n",
    "reconstructed_model = tf.keras.models.load_model(\"LeNet-model\")"
   ]
  },
  {
   "cell_type": "code",
   "execution_count": 63,
   "metadata": {},
   "outputs": [
    {
     "name": "stdout",
     "output_type": "stream",
     "text": [
      "Epoch 1/100\n",
      "161/161 [==============================] - 8s 48ms/step - loss: 0.4656 - accuracy: 0.8292\n",
      "Epoch 2/100\n",
      "161/161 [==============================] - 8s 48ms/step - loss: 0.4630 - accuracy: 0.8341\n",
      "Epoch 3/100\n",
      "161/161 [==============================] - 8s 48ms/step - loss: 0.4574 - accuracy: 0.8347\n",
      "Epoch 4/100\n",
      "161/161 [==============================] - 8s 48ms/step - loss: 0.4561 - accuracy: 0.8365\n",
      "Epoch 5/100\n",
      "161/161 [==============================] - 8s 48ms/step - loss: 0.4573 - accuracy: 0.8310\n",
      "Epoch 6/100\n",
      "161/161 [==============================] - 8s 47ms/step - loss: 0.4559 - accuracy: 0.8335\n",
      "Epoch 7/100\n",
      "161/161 [==============================] - 8s 48ms/step - loss: 0.4508 - accuracy: 0.8386\n",
      "Epoch 8/100\n",
      "161/161 [==============================] - 8s 48ms/step - loss: 0.4501 - accuracy: 0.8372\n",
      "Epoch 9/100\n",
      "161/161 [==============================] - 8s 48ms/step - loss: 0.4457 - accuracy: 0.8384\n",
      "Epoch 10/100\n",
      "161/161 [==============================] - 8s 48ms/step - loss: 0.4437 - accuracy: 0.8402\n",
      "Epoch 11/100\n",
      "161/161 [==============================] - 8s 48ms/step - loss: 0.4371 - accuracy: 0.8464 0s - loss: 0.4322 \n",
      "Epoch 12/100\n",
      "161/161 [==============================] - 8s 47ms/step - loss: 0.4382 - accuracy: 0.8439\n",
      "Epoch 13/100\n",
      "161/161 [==============================] - 8s 47ms/step - loss: 0.4349 - accuracy: 0.8431\n",
      "Epoch 14/100\n",
      "161/161 [==============================] - 8s 48ms/step - loss: 0.4298 - accuracy: 0.8398\n",
      "Epoch 15/100\n",
      "161/161 [==============================] - 8s 48ms/step - loss: 0.4328 - accuracy: 0.8423\n",
      "Epoch 16/100\n",
      "161/161 [==============================] - 8s 47ms/step - loss: 0.4285 - accuracy: 0.8493\n",
      "Epoch 17/100\n",
      "161/161 [==============================] - 8s 47ms/step - loss: 0.4213 - accuracy: 0.8489\n",
      "Epoch 18/100\n",
      "161/161 [==============================] - 8s 48ms/step - loss: 0.4263 - accuracy: 0.8487\n",
      "Epoch 19/100\n",
      "161/161 [==============================] - 8s 47ms/step - loss: 0.4224 - accuracy: 0.8501\n",
      "Epoch 20/100\n",
      "161/161 [==============================] - 8s 49ms/step - loss: 0.4199 - accuracy: 0.8437\n",
      "Epoch 21/100\n",
      "161/161 [==============================] - 8s 48ms/step - loss: 0.4148 - accuracy: 0.8497\n",
      "Epoch 22/100\n",
      "161/161 [==============================] - 8s 48ms/step - loss: 0.4131 - accuracy: 0.8468\n",
      "Epoch 23/100\n",
      "161/161 [==============================] - 8s 48ms/step - loss: 0.4152 - accuracy: 0.8485\n",
      "Epoch 24/100\n",
      "161/161 [==============================] - 8s 48ms/step - loss: 0.4112 - accuracy: 0.8483\n",
      "Epoch 25/100\n",
      "161/161 [==============================] - 8s 48ms/step - loss: 0.4049 - accuracy: 0.8558\n",
      "Epoch 26/100\n",
      "161/161 [==============================] - 8s 48ms/step - loss: 0.4076 - accuracy: 0.8520\n",
      "Epoch 27/100\n",
      "161/161 [==============================] - 8s 48ms/step - loss: 0.4015 - accuracy: 0.8573\n",
      "Epoch 28/100\n",
      "161/161 [==============================] - 8s 47ms/step - loss: 0.4036 - accuracy: 0.8524\n",
      "Epoch 29/100\n",
      "161/161 [==============================] - 8s 48ms/step - loss: 0.3999 - accuracy: 0.8532\n",
      "Epoch 30/100\n",
      "161/161 [==============================] - 8s 48ms/step - loss: 0.3997 - accuracy: 0.8540\n",
      "Epoch 31/100\n",
      "161/161 [==============================] - 8s 48ms/step - loss: 0.3909 - accuracy: 0.8573\n",
      "Epoch 32/100\n",
      "161/161 [==============================] - 8s 48ms/step - loss: 0.3945 - accuracy: 0.8554\n",
      "Epoch 33/100\n",
      "161/161 [==============================] - 8s 48ms/step - loss: 0.3919 - accuracy: 0.8602\n",
      "Epoch 34/100\n",
      "161/161 [==============================] - 8s 47ms/step - loss: 0.3890 - accuracy: 0.8563\n",
      "Epoch 35/100\n",
      "161/161 [==============================] - 8s 48ms/step - loss: 0.3852 - accuracy: 0.8608\n",
      "Epoch 36/100\n",
      "161/161 [==============================] - 8s 48ms/step - loss: 0.3853 - accuracy: 0.8595\n",
      "Epoch 37/100\n",
      "161/161 [==============================] - 8s 48ms/step - loss: 0.3841 - accuracy: 0.8587\n",
      "Epoch 38/100\n",
      "161/161 [==============================] - 8s 48ms/step - loss: 0.3830 - accuracy: 0.8616\n",
      "Epoch 39/100\n",
      "161/161 [==============================] - 8s 49ms/step - loss: 0.3778 - accuracy: 0.8657\n",
      "Epoch 40/100\n",
      "161/161 [==============================] - 8s 47ms/step - loss: 0.3757 - accuracy: 0.8643\n",
      "Epoch 41/100\n",
      "161/161 [==============================] - 8s 48ms/step - loss: 0.3741 - accuracy: 0.8649\n",
      "Epoch 42/100\n",
      "161/161 [==============================] - 8s 48ms/step - loss: 0.3727 - accuracy: 0.8602\n",
      "Epoch 43/100\n",
      "161/161 [==============================] - 8s 49ms/step - loss: 0.3767 - accuracy: 0.8610\n",
      "Epoch 44/100\n",
      "161/161 [==============================] - 8s 48ms/step - loss: 0.3681 - accuracy: 0.8673\n",
      "Epoch 45/100\n",
      "161/161 [==============================] - 8s 49ms/step - loss: 0.3657 - accuracy: 0.8704\n",
      "Epoch 46/100\n",
      "161/161 [==============================] - 8s 50ms/step - loss: 0.3722 - accuracy: 0.8641\n",
      "Epoch 47/100\n",
      "161/161 [==============================] - 8s 49ms/step - loss: 0.3657 - accuracy: 0.8659\n",
      "Epoch 48/100\n",
      "161/161 [==============================] - 8s 48ms/step - loss: 0.3585 - accuracy: 0.8700\n",
      "Epoch 49/100\n",
      "161/161 [==============================] - 8s 49ms/step - loss: 0.3604 - accuracy: 0.8713\n",
      "Epoch 50/100\n",
      "161/161 [==============================] - 8s 49ms/step - loss: 0.3623 - accuracy: 0.8692\n",
      "Epoch 51/100\n",
      "161/161 [==============================] - 8s 50ms/step - loss: 0.3594 - accuracy: 0.8682\n",
      "Epoch 52/100\n",
      "161/161 [==============================] - 8s 49ms/step - loss: 0.3615 - accuracy: 0.8669\n",
      "Epoch 53/100\n",
      "161/161 [==============================] - 8s 49ms/step - loss: 0.3519 - accuracy: 0.8721\n",
      "Epoch 54/100\n",
      "161/161 [==============================] - 8s 49ms/step - loss: 0.3509 - accuracy: 0.8723\n",
      "Epoch 55/100\n",
      "161/161 [==============================] - 8s 49ms/step - loss: 0.3515 - accuracy: 0.8729\n",
      "Epoch 56/100\n",
      "161/161 [==============================] - 8s 49ms/step - loss: 0.3478 - accuracy: 0.8749\n",
      "Epoch 57/100\n",
      "161/161 [==============================] - 8s 49ms/step - loss: 0.3460 - accuracy: 0.8768\n",
      "Epoch 58/100\n",
      "161/161 [==============================] - 8s 50ms/step - loss: 0.3423 - accuracy: 0.8747\n",
      "Epoch 59/100\n",
      "161/161 [==============================] - 8s 49ms/step - loss: 0.3464 - accuracy: 0.8713\n",
      "Epoch 60/100\n",
      "161/161 [==============================] - 8s 50ms/step - loss: 0.3377 - accuracy: 0.8789\n",
      "Epoch 61/100\n",
      "161/161 [==============================] - 8s 49ms/step - loss: 0.3369 - accuracy: 0.8797\n",
      "Epoch 62/100\n",
      "161/161 [==============================] - 8s 48ms/step - loss: 0.3402 - accuracy: 0.8782\n",
      "Epoch 63/100\n",
      "161/161 [==============================] - 8s 48ms/step - loss: 0.3344 - accuracy: 0.8766\n",
      "Epoch 64/100\n",
      "161/161 [==============================] - 8s 48ms/step - loss: 0.3338 - accuracy: 0.8762\n",
      "Epoch 65/100\n",
      "161/161 [==============================] - 8s 49ms/step - loss: 0.3314 - accuracy: 0.8811\n",
      "Epoch 66/100\n",
      "161/161 [==============================] - 8s 49ms/step - loss: 0.3299 - accuracy: 0.8797\n",
      "Epoch 67/100\n",
      "161/161 [==============================] - 8s 50ms/step - loss: 0.3242 - accuracy: 0.8811\n",
      "Epoch 68/100\n",
      "161/161 [==============================] - 8s 49ms/step - loss: 0.3262 - accuracy: 0.8828\n",
      "Epoch 69/100\n",
      "161/161 [==============================] - 8s 49ms/step - loss: 0.3245 - accuracy: 0.8795\n",
      "Epoch 70/100\n",
      "161/161 [==============================] - 8s 49ms/step - loss: 0.3237 - accuracy: 0.8811\n",
      "Epoch 71/100\n",
      "161/161 [==============================] - 8s 49ms/step - loss: 0.3277 - accuracy: 0.8789\n",
      "Epoch 72/100\n",
      "161/161 [==============================] - 8s 48ms/step - loss: 0.3173 - accuracy: 0.8858\n",
      "Epoch 73/100\n",
      "161/161 [==============================] - 8s 48ms/step - loss: 0.3174 - accuracy: 0.8862\n",
      "Epoch 74/100\n",
      "161/161 [==============================] - 8s 49ms/step - loss: 0.3160 - accuracy: 0.8836\n",
      "Epoch 75/100\n",
      "161/161 [==============================] - 8s 50ms/step - loss: 0.3138 - accuracy: 0.8869\n",
      "Epoch 76/100\n",
      "161/161 [==============================] - 8s 50ms/step - loss: 0.3154 - accuracy: 0.8815\n",
      "Epoch 77/100\n",
      "161/161 [==============================] - 8s 50ms/step - loss: 0.3134 - accuracy: 0.8852\n",
      "Epoch 78/100\n",
      "161/161 [==============================] - 8s 50ms/step - loss: 0.3123 - accuracy: 0.8881\n",
      "Epoch 79/100\n",
      "161/161 [==============================] - 8s 52ms/step - loss: 0.3106 - accuracy: 0.8879\n",
      "Epoch 80/100\n",
      "161/161 [==============================] - 8s 51ms/step - loss: 0.3081 - accuracy: 0.8881\n",
      "Epoch 81/100\n",
      "161/161 [==============================] - 8s 51ms/step - loss: 0.3060 - accuracy: 0.8910\n",
      "Epoch 82/100\n",
      "161/161 [==============================] - 8s 50ms/step - loss: 0.3028 - accuracy: 0.8897\n",
      "Epoch 83/100\n",
      "161/161 [==============================] - 8s 49ms/step - loss: 0.3044 - accuracy: 0.8858\n",
      "Epoch 84/100\n",
      "161/161 [==============================] - 8s 50ms/step - loss: 0.3035 - accuracy: 0.8889\n",
      "Epoch 85/100\n",
      "161/161 [==============================] - 8s 50ms/step - loss: 0.2986 - accuracy: 0.8924\n",
      "Epoch 86/100\n",
      "161/161 [==============================] - 8s 50ms/step - loss: 0.2994 - accuracy: 0.8895\n",
      "Epoch 87/100\n",
      "161/161 [==============================] - 8s 50ms/step - loss: 0.3034 - accuracy: 0.8877\n",
      "Epoch 88/100\n",
      "161/161 [==============================] - 8s 50ms/step - loss: 0.2962 - accuracy: 0.8922\n",
      "Epoch 89/100\n",
      "161/161 [==============================] - 8s 51ms/step - loss: 0.2922 - accuracy: 0.8953\n",
      "Epoch 90/100\n",
      "161/161 [==============================] - 8s 49ms/step - loss: 0.2935 - accuracy: 0.8932\n",
      "Epoch 91/100\n",
      "161/161 [==============================] - 8s 47ms/step - loss: 0.2913 - accuracy: 0.8949\n",
      "Epoch 92/100\n",
      "161/161 [==============================] - 8s 48ms/step - loss: 0.2898 - accuracy: 0.8926\n",
      "Epoch 93/100\n",
      "161/161 [==============================] - 8s 48ms/step - loss: 0.2883 - accuracy: 0.8955\n",
      "Epoch 94/100\n",
      "161/161 [==============================] - 8s 48ms/step - loss: 0.2889 - accuracy: 0.8951\n",
      "Epoch 95/100\n",
      "161/161 [==============================] - 8s 47ms/step - loss: 0.2870 - accuracy: 0.8973\n",
      "Epoch 96/100\n",
      "161/161 [==============================] - 8s 48ms/step - loss: 0.2856 - accuracy: 0.8981\n",
      "Epoch 97/100\n",
      "161/161 [==============================] - 8s 47ms/step - loss: 0.2880 - accuracy: 0.8967\n",
      "Epoch 98/100\n",
      "161/161 [==============================] - 8s 48ms/step - loss: 0.2823 - accuracy: 0.8953\n",
      "Epoch 99/100\n",
      "161/161 [==============================] - 8s 48ms/step - loss: 0.2779 - accuracy: 0.8975\n",
      "Epoch 100/100\n",
      "161/161 [==============================] - 8s 48ms/step - loss: 0.2830 - accuracy: 0.8998\n"
     ]
    },
    {
     "data": {
      "text/plain": [
       "<tensorflow.python.keras.callbacks.History at 0x14a3c8820>"
      ]
     },
     "execution_count": 63,
     "metadata": {},
     "output_type": "execute_result"
    }
   ],
   "source": [
    "reconstructed_model.fit_generator(generator=train_generator,\n",
    "                    steps_per_epoch=STEP_SIZE_TRAIN,\n",
    "                    epochs=100)"
   ]
  },
  {
   "cell_type": "code",
   "execution_count": 64,
   "metadata": {},
   "outputs": [
    {
     "name": "stdout",
     "output_type": "stream",
     "text": [
      "INFO:tensorflow:Assets written to: reconstructed_LeNet_model/assets\n"
     ]
    }
   ],
   "source": [
    "reconstructed_model.save(\"reconstructed_LeNet_model\")"
   ]
  },
  {
   "cell_type": "code",
   "execution_count": 72,
   "metadata": {},
   "outputs": [],
   "source": [
    "newconstructed_model = tf.keras.models.load_model(\"reconstructed_LeNet_model\")"
   ]
  },
  {
   "cell_type": "code",
   "execution_count": 67,
   "metadata": {},
   "outputs": [
    {
     "name": "stdout",
     "output_type": "stream",
     "text": [
      "Epoch 1/100\n",
      "161/161 [==============================] - 8s 48ms/step - loss: 0.2761 - accuracy: 0.9002\n",
      "Epoch 2/100\n",
      "161/161 [==============================] - 8s 47ms/step - loss: 0.2750 - accuracy: 0.9008\n",
      "Epoch 3/100\n",
      "161/161 [==============================] - 7s 46ms/step - loss: 0.2761 - accuracy: 0.8984\n",
      "Epoch 4/100\n",
      "161/161 [==============================] - 8s 47ms/step - loss: 0.2722 - accuracy: 0.9023\n",
      "Epoch 5/100\n",
      "161/161 [==============================] - 8s 47ms/step - loss: 0.2700 - accuracy: 0.9033\n",
      "Epoch 6/100\n",
      "161/161 [==============================] - 8s 47ms/step - loss: 0.2671 - accuracy: 0.9062\n",
      "Epoch 7/100\n",
      "161/161 [==============================] - 7s 46ms/step - loss: 0.2683 - accuracy: 0.9023\n",
      "Epoch 8/100\n",
      "161/161 [==============================] - 8s 47ms/step - loss: 0.2685 - accuracy: 0.9018\n",
      "Epoch 9/100\n",
      "161/161 [==============================] - 8s 48ms/step - loss: 0.2668 - accuracy: 0.9023\n",
      "Epoch 10/100\n",
      "161/161 [==============================] - 8s 47ms/step - loss: 0.2672 - accuracy: 0.9055\n",
      "Epoch 11/100\n",
      "161/161 [==============================] - 8s 47ms/step - loss: 0.2629 - accuracy: 0.9055\n",
      "Epoch 12/100\n",
      "161/161 [==============================] - 8s 47ms/step - loss: 0.2605 - accuracy: 0.9018\n",
      "Epoch 13/100\n",
      "161/161 [==============================] - 8s 47ms/step - loss: 0.2622 - accuracy: 0.9018\n",
      "Epoch 14/100\n",
      "161/161 [==============================] - 8s 48ms/step - loss: 0.2642 - accuracy: 0.9035\n",
      "Epoch 15/100\n",
      "161/161 [==============================] - 8s 47ms/step - loss: 0.2572 - accuracy: 0.9082\n",
      "Epoch 16/100\n",
      "161/161 [==============================] - 8s 47ms/step - loss: 0.2546 - accuracy: 0.9068\n",
      "Epoch 17/100\n",
      "161/161 [==============================] - 8s 47ms/step - loss: 0.2542 - accuracy: 0.9113\n",
      "Epoch 18/100\n",
      "161/161 [==============================] - 8s 47ms/step - loss: 0.2564 - accuracy: 0.9039\n",
      "Epoch 19/100\n",
      "161/161 [==============================] - 8s 48ms/step - loss: 0.2516 - accuracy: 0.9088\n",
      "Epoch 20/100\n",
      "161/161 [==============================] - 7s 47ms/step - loss: 0.2531 - accuracy: 0.9080\n",
      "Epoch 21/100\n",
      "161/161 [==============================] - 8s 47ms/step - loss: 0.2497 - accuracy: 0.9113\n",
      "Epoch 22/100\n",
      "161/161 [==============================] - 8s 47ms/step - loss: 0.2494 - accuracy: 0.9066\n",
      "Epoch 23/100\n",
      "161/161 [==============================] - 8s 48ms/step - loss: 0.2518 - accuracy: 0.9068\n",
      "Epoch 24/100\n",
      "161/161 [==============================] - 8s 48ms/step - loss: 0.2520 - accuracy: 0.9086\n",
      "Epoch 25/100\n",
      "161/161 [==============================] - 8s 48ms/step - loss: 0.2452 - accuracy: 0.9113\n",
      "Epoch 26/100\n",
      "161/161 [==============================] - 8s 47ms/step - loss: 0.2484 - accuracy: 0.9101\n",
      "Epoch 27/100\n",
      "161/161 [==============================] - 8s 47ms/step - loss: 0.2411 - accuracy: 0.9121\n",
      "Epoch 28/100\n",
      "161/161 [==============================] - 8s 47ms/step - loss: 0.2405 - accuracy: 0.9125\n",
      "Epoch 29/100\n",
      "161/161 [==============================] - 8s 47ms/step - loss: 0.2414 - accuracy: 0.9125\n",
      "Epoch 30/100\n",
      "161/161 [==============================] - 8s 47ms/step - loss: 0.2367 - accuracy: 0.9142\n",
      "Epoch 31/100\n",
      "161/161 [==============================] - 8s 47ms/step - loss: 0.2409 - accuracy: 0.9131\n",
      "Epoch 32/100\n",
      "161/161 [==============================] - 8s 48ms/step - loss: 0.2449 - accuracy: 0.9090\n",
      "Epoch 33/100\n",
      "161/161 [==============================] - 8s 48ms/step - loss: 0.2374 - accuracy: 0.9119\n",
      "Epoch 34/100\n",
      "161/161 [==============================] - 8s 47ms/step - loss: 0.2347 - accuracy: 0.9135\n",
      "Epoch 35/100\n",
      "161/161 [==============================] - 8s 47ms/step - loss: 0.2345 - accuracy: 0.9136\n",
      "Epoch 36/100\n",
      "161/161 [==============================] - 8s 48ms/step - loss: 0.2363 - accuracy: 0.9166\n",
      "Epoch 37/100\n",
      "161/161 [==============================] - 8s 47ms/step - loss: 0.2343 - accuracy: 0.9170\n",
      "Epoch 38/100\n",
      "161/161 [==============================] - 8s 48ms/step - loss: 0.2304 - accuracy: 0.9172\n",
      "Epoch 39/100\n",
      "161/161 [==============================] - 8s 48ms/step - loss: 0.2293 - accuracy: 0.9191\n",
      "Epoch 40/100\n",
      "161/161 [==============================] - 8s 48ms/step - loss: 0.2285 - accuracy: 0.9179\n",
      "Epoch 41/100\n",
      "161/161 [==============================] - 8s 49ms/step - loss: 0.2311 - accuracy: 0.9164\n",
      "Epoch 42/100\n",
      "161/161 [==============================] - 8s 50ms/step - loss: 0.2222 - accuracy: 0.9214\n",
      "Epoch 43/100\n",
      "161/161 [==============================] - 8s 49ms/step - loss: 0.2276 - accuracy: 0.9216\n",
      "Epoch 44/100\n",
      "161/161 [==============================] - 8s 51ms/step - loss: 0.2232 - accuracy: 0.9173\n",
      "Epoch 45/100\n",
      "161/161 [==============================] - 8s 48ms/step - loss: 0.2221 - accuracy: 0.9197\n",
      "Epoch 46/100\n",
      "161/161 [==============================] - 7s 46ms/step - loss: 0.2236 - accuracy: 0.9181\n",
      "Epoch 47/100\n",
      "161/161 [==============================] - 8s 48ms/step - loss: 0.2207 - accuracy: 0.9220\n",
      "Epoch 48/100\n",
      "161/161 [==============================] - 7s 46ms/step - loss: 0.2212 - accuracy: 0.9205\n",
      "Epoch 49/100\n",
      "161/161 [==============================] - 7s 46ms/step - loss: 0.2188 - accuracy: 0.9212\n",
      "Epoch 50/100\n",
      "161/161 [==============================] - 8s 49ms/step - loss: 0.2193 - accuracy: 0.9234\n",
      "Epoch 51/100\n",
      "161/161 [==============================] - 8s 47ms/step - loss: 0.2137 - accuracy: 0.9224\n",
      "Epoch 52/100\n",
      "161/161 [==============================] - 7s 46ms/step - loss: 0.2220 - accuracy: 0.9212\n",
      "Epoch 53/100\n",
      "161/161 [==============================] - 8s 50ms/step - loss: 0.2164 - accuracy: 0.9185\n",
      "Epoch 54/100\n",
      "161/161 [==============================] - 8s 47ms/step - loss: 0.2149 - accuracy: 0.9207\n",
      "Epoch 55/100\n",
      "161/161 [==============================] - 8s 47ms/step - loss: 0.2119 - accuracy: 0.9222\n",
      "Epoch 56/100\n",
      "161/161 [==============================] - 8s 47ms/step - loss: 0.2100 - accuracy: 0.9248\n",
      "Epoch 57/100\n",
      "161/161 [==============================] - 8s 47ms/step - loss: 0.2124 - accuracy: 0.9226\n",
      "Epoch 58/100\n",
      "161/161 [==============================] - 7s 45ms/step - loss: 0.2108 - accuracy: 0.9220\n",
      "Epoch 59/100\n",
      "161/161 [==============================] - 8s 49ms/step - loss: 0.2093 - accuracy: 0.9226\n",
      "Epoch 60/100\n",
      "161/161 [==============================] - 8s 47ms/step - loss: 0.2097 - accuracy: 0.9222\n",
      "Epoch 61/100\n",
      "161/161 [==============================] - 8s 48ms/step - loss: 0.2079 - accuracy: 0.9228\n",
      "Epoch 62/100\n",
      "161/161 [==============================] - 8s 49ms/step - loss: 0.2146 - accuracy: 0.9197\n",
      "Epoch 63/100\n",
      "161/161 [==============================] - 8s 50ms/step - loss: 0.2047 - accuracy: 0.9277\n",
      "Epoch 64/100\n",
      "161/161 [==============================] - 8s 50ms/step - loss: 0.2005 - accuracy: 0.9298\n",
      "Epoch 65/100\n",
      "161/161 [==============================] - 8s 47ms/step - loss: 0.2032 - accuracy: 0.9275\n",
      "Epoch 66/100\n",
      "161/161 [==============================] - 9s 53ms/step - loss: 0.2060 - accuracy: 0.9246\n",
      "Epoch 67/100\n",
      "161/161 [==============================] - 8s 51ms/step - loss: 0.1972 - accuracy: 0.9275\n",
      "Epoch 68/100\n",
      "161/161 [==============================] - 8s 47ms/step - loss: 0.2024 - accuracy: 0.9269\n",
      "Epoch 69/100\n",
      "161/161 [==============================] - 8s 49ms/step - loss: 0.1949 - accuracy: 0.9294\n",
      "Epoch 70/100\n",
      "161/161 [==============================] - 8s 48ms/step - loss: 0.2015 - accuracy: 0.9277\n",
      "Epoch 71/100\n",
      "161/161 [==============================] - 8s 48ms/step - loss: 0.2005 - accuracy: 0.9255\n",
      "Epoch 72/100\n",
      "161/161 [==============================] - 8s 49ms/step - loss: 0.1937 - accuracy: 0.9290\n",
      "Epoch 73/100\n",
      "161/161 [==============================] - 9s 53ms/step - loss: 0.1997 - accuracy: 0.9271\n",
      "Epoch 74/100\n",
      "161/161 [==============================] - 10s 61ms/step - loss: 0.1918 - accuracy: 0.9316\n",
      "Epoch 75/100\n",
      "161/161 [==============================] - 9s 53ms/step - loss: 0.1914 - accuracy: 0.9333\n",
      "Epoch 76/100\n",
      "161/161 [==============================] - 8s 51ms/step - loss: 0.1899 - accuracy: 0.9322\n",
      "Epoch 77/100\n",
      "161/161 [==============================] - 8s 51ms/step - loss: 0.1906 - accuracy: 0.9302\n",
      "Epoch 78/100\n",
      "161/161 [==============================] - 10s 59ms/step - loss: 0.1927 - accuracy: 0.9304\n",
      "Epoch 79/100\n",
      "161/161 [==============================] - 9s 57ms/step - loss: 0.1847 - accuracy: 0.9368\n",
      "Epoch 80/100\n",
      "161/161 [==============================] - 9s 57ms/step - loss: 0.1871 - accuracy: 0.9316\n",
      "Epoch 81/100\n",
      "161/161 [==============================] - 9s 56ms/step - loss: 0.1882 - accuracy: 0.9329\n",
      "Epoch 82/100\n",
      "161/161 [==============================] - 9s 57ms/step - loss: 0.1867 - accuracy: 0.9310\n",
      "Epoch 83/100\n",
      "161/161 [==============================] - 9s 56ms/step - loss: 0.1838 - accuracy: 0.9347\n",
      "Epoch 84/100\n",
      "161/161 [==============================] - 9s 55ms/step - loss: 0.1854 - accuracy: 0.9347\n",
      "Epoch 85/100\n",
      "161/161 [==============================] - 8s 48ms/step - loss: 0.1820 - accuracy: 0.9349\n",
      "Epoch 86/100\n",
      "161/161 [==============================] - 8s 51ms/step - loss: 0.1835 - accuracy: 0.9316\n",
      "Epoch 87/100\n",
      "161/161 [==============================] - 8s 52ms/step - loss: 0.1851 - accuracy: 0.9337\n",
      "Epoch 88/100\n",
      "161/161 [==============================] - 10s 64ms/step - loss: 0.1780 - accuracy: 0.9376\n",
      "Epoch 89/100\n",
      "161/161 [==============================] - 9s 58ms/step - loss: 0.1801 - accuracy: 0.9351\n",
      "Epoch 90/100\n",
      "161/161 [==============================] - 9s 55ms/step - loss: 0.1830 - accuracy: 0.9351\n",
      "Epoch 91/100\n",
      "161/161 [==============================] - 9s 54ms/step - loss: 0.1805 - accuracy: 0.9353\n",
      "Epoch 92/100\n",
      "161/161 [==============================] - 8s 50ms/step - loss: 0.1797 - accuracy: 0.9359\n",
      "Epoch 93/100\n",
      "161/161 [==============================] - 8s 50ms/step - loss: 0.1739 - accuracy: 0.9376\n",
      "Epoch 94/100\n",
      "161/161 [==============================] - 8s 51ms/step - loss: 0.1699 - accuracy: 0.9429\n",
      "Epoch 95/100\n",
      "161/161 [==============================] - 8s 51ms/step - loss: 0.1771 - accuracy: 0.9345\n",
      "Epoch 96/100\n",
      "161/161 [==============================] - 8s 51ms/step - loss: 0.1758 - accuracy: 0.9384\n",
      "Epoch 97/100\n",
      "161/161 [==============================] - 8s 51ms/step - loss: 0.1728 - accuracy: 0.9384\n",
      "Epoch 98/100\n",
      "161/161 [==============================] - 8s 51ms/step - loss: 0.1654 - accuracy: 0.9429\n",
      "Epoch 99/100\n",
      "161/161 [==============================] - 8s 51ms/step - loss: 0.1720 - accuracy: 0.9441\n",
      "Epoch 100/100\n",
      "161/161 [==============================] - 9s 55ms/step - loss: 0.1730 - accuracy: 0.9359\n"
     ]
    },
    {
     "data": {
      "text/plain": [
       "<tensorflow.python.keras.callbacks.History at 0x14aaaa340>"
      ]
     },
     "execution_count": 67,
     "metadata": {},
     "output_type": "execute_result"
    }
   ],
   "source": [
    "newconstructed_model.fit_generator(generator=train_generator,\n",
    "                    steps_per_epoch=STEP_SIZE_TRAIN,\n",
    "                    epochs=100)"
   ]
  },
  {
   "cell_type": "code",
   "execution_count": 68,
   "metadata": {},
   "outputs": [
    {
     "name": "stdout",
     "output_type": "stream",
     "text": [
      "INFO:tensorflow:Assets written to: newconstructed_LeNet_model/assets\n"
     ]
    }
   ],
   "source": [
    "newconstructed_model.save(\"newconstructed_LeNet_model\")"
   ]
  },
  {
   "cell_type": "code",
   "execution_count": 69,
   "metadata": {},
   "outputs": [],
   "source": [
    "newnewconstructed_model = tf.keras.models.load_model(\"newconstructed_LeNet_model\")"
   ]
  },
  {
   "cell_type": "code",
   "execution_count": 70,
   "metadata": {},
   "outputs": [
    {
     "name": "stdout",
     "output_type": "stream",
     "text": [
      "Epoch 1/100\n",
      "161/161 [==============================] - 8s 49ms/step - loss: 0.1658 - accuracy: 0.9431\n",
      "Epoch 2/100\n",
      "161/161 [==============================] - 8s 47ms/step - loss: 0.1675 - accuracy: 0.9400\n",
      "Epoch 3/100\n",
      "161/161 [==============================] - 8s 47ms/step - loss: 0.1683 - accuracy: 0.9404\n",
      "Epoch 4/100\n",
      "161/161 [==============================] - 8s 47ms/step - loss: 0.1672 - accuracy: 0.9392\n",
      "Epoch 5/100\n",
      "161/161 [==============================] - 7s 46ms/step - loss: 0.1675 - accuracy: 0.9386\n",
      "Epoch 6/100\n",
      "161/161 [==============================] - 8s 47ms/step - loss: 0.1578 - accuracy: 0.9487\n",
      "Epoch 7/100\n",
      "161/161 [==============================] - 8s 47ms/step - loss: 0.1687 - accuracy: 0.9396\n",
      "Epoch 8/100\n",
      "161/161 [==============================] - 8s 50ms/step - loss: 0.1709 - accuracy: 0.9366\n",
      "Epoch 9/100\n",
      "161/161 [==============================] - 8s 50ms/step - loss: 0.1622 - accuracy: 0.9413\n",
      "Epoch 10/100\n",
      "161/161 [==============================] - 8s 49ms/step - loss: 0.1606 - accuracy: 0.9409\n",
      "Epoch 11/100\n",
      "161/161 [==============================] - 8s 50ms/step - loss: 0.1583 - accuracy: 0.9458\n",
      "Epoch 12/100\n",
      "161/161 [==============================] - 8s 49ms/step - loss: 0.1556 - accuracy: 0.9437\n",
      "Epoch 13/100\n",
      "161/161 [==============================] - 8s 50ms/step - loss: 0.1601 - accuracy: 0.9413\n",
      "Epoch 14/100\n",
      "161/161 [==============================] - 8s 48ms/step - loss: 0.1569 - accuracy: 0.9433\n",
      "Epoch 15/100\n",
      "161/161 [==============================] - 8s 50ms/step - loss: 0.1601 - accuracy: 0.9417\n",
      "Epoch 16/100\n",
      "161/161 [==============================] - 8s 49ms/step - loss: 0.1527 - accuracy: 0.9464\n",
      "Epoch 17/100\n",
      "161/161 [==============================] - 8s 51ms/step - loss: 0.1583 - accuracy: 0.9444\n",
      "Epoch 18/100\n",
      "161/161 [==============================] - 9s 53ms/step - loss: 0.1516 - accuracy: 0.9481\n",
      "Epoch 19/100\n",
      "161/161 [==============================] - 8s 50ms/step - loss: 0.1580 - accuracy: 0.9415\n",
      "Epoch 20/100\n",
      "161/161 [==============================] - 8s 49ms/step - loss: 0.1546 - accuracy: 0.9476\n",
      "Epoch 21/100\n",
      "161/161 [==============================] - 8s 49ms/step - loss: 0.1622 - accuracy: 0.9435\n",
      "Epoch 22/100\n",
      "161/161 [==============================] - 8s 49ms/step - loss: 0.1525 - accuracy: 0.9435\n",
      "Epoch 23/100\n",
      "161/161 [==============================] - 10s 63ms/step - loss: 0.1496 - accuracy: 0.9478\n",
      "Epoch 24/100\n",
      "161/161 [==============================] - 10s 63ms/step - loss: 0.1477 - accuracy: 0.9480\n",
      "Epoch 25/100\n",
      "161/161 [==============================] - 9s 56ms/step - loss: 0.1484 - accuracy: 0.9485\n",
      "Epoch 26/100\n",
      "161/161 [==============================] - 9s 54ms/step - loss: 0.1500 - accuracy: 0.9476\n",
      "Epoch 27/100\n",
      "161/161 [==============================] - 9s 54ms/step - loss: 0.1477 - accuracy: 0.9476\n",
      "Epoch 28/100\n",
      "161/161 [==============================] - 9s 57ms/step - loss: 0.1462 - accuracy: 0.9487\n",
      "Epoch 29/100\n",
      "161/161 [==============================] - 9s 58ms/step - loss: 0.1407 - accuracy: 0.9519\n",
      "Epoch 30/100\n",
      "161/161 [==============================] - 9s 57ms/step - loss: 0.1400 - accuracy: 0.9526\n",
      "Epoch 31/100\n",
      "161/161 [==============================] - 10s 59ms/step - loss: 0.1434 - accuracy: 0.9487\n",
      "Epoch 32/100\n",
      "161/161 [==============================] - 10s 63ms/step - loss: 0.1408 - accuracy: 0.9515\n",
      "Epoch 33/100\n",
      "161/161 [==============================] - 9s 55ms/step - loss: 0.1396 - accuracy: 0.9501\n",
      "Epoch 34/100\n",
      "161/161 [==============================] - 9s 55ms/step - loss: 0.1410 - accuracy: 0.9528\n",
      "Epoch 35/100\n",
      "161/161 [==============================] - 9s 56ms/step - loss: 0.1349 - accuracy: 0.9563\n",
      "Epoch 36/100\n",
      "161/161 [==============================] - 9s 54ms/step - loss: 0.1344 - accuracy: 0.9583\n",
      "Epoch 37/100\n",
      "161/161 [==============================] - 9s 54ms/step - loss: 0.1394 - accuracy: 0.9520\n",
      "Epoch 38/100\n",
      "161/161 [==============================] - 9s 55ms/step - loss: 0.1368 - accuracy: 0.9567\n",
      "Epoch 39/100\n",
      "161/161 [==============================] - 9s 55ms/step - loss: 0.1405 - accuracy: 0.9493\n",
      "Epoch 40/100\n",
      "161/161 [==============================] - 9s 54ms/step - loss: 0.1356 - accuracy: 0.9542\n",
      "Epoch 41/100\n",
      "161/161 [==============================] - 9s 54ms/step - loss: 0.1380 - accuracy: 0.9536 0s - loss: 0.1384 - accu\n",
      "Epoch 42/100\n",
      "161/161 [==============================] - 10s 62ms/step - loss: 0.1337 - accuracy: 0.9556\n",
      "Epoch 43/100\n",
      "161/161 [==============================] - 9s 56ms/step - loss: 0.1385 - accuracy: 0.9520\n",
      "Epoch 44/100\n",
      "161/161 [==============================] - 8s 48ms/step - loss: 0.1362 - accuracy: 0.9540\n",
      "Epoch 45/100\n",
      "161/161 [==============================] - 7s 46ms/step - loss: 0.1377 - accuracy: 0.9526\n",
      "Epoch 46/100\n",
      "161/161 [==============================] - 7s 46ms/step - loss: 0.1308 - accuracy: 0.9561\n",
      "Epoch 47/100\n",
      "161/161 [==============================] - 7s 46ms/step - loss: 0.1300 - accuracy: 0.9579\n",
      "Epoch 48/100\n",
      "161/161 [==============================] - 7s 46ms/step - loss: 0.1345 - accuracy: 0.9517\n",
      "Epoch 49/100\n",
      "161/161 [==============================] - 7s 46ms/step - loss: 0.1318 - accuracy: 0.9524\n",
      "Epoch 50/100\n",
      "161/161 [==============================] - 7s 46ms/step - loss: 0.1319 - accuracy: 0.9534\n",
      "Epoch 51/100\n",
      "161/161 [==============================] - 7s 46ms/step - loss: 0.1302 - accuracy: 0.9524\n",
      "Epoch 52/100\n",
      "161/161 [==============================] - 7s 46ms/step - loss: 0.1257 - accuracy: 0.9573\n",
      "Epoch 53/100\n",
      "161/161 [==============================] - 7s 45ms/step - loss: 0.1325 - accuracy: 0.9507\n",
      "Epoch 54/100\n",
      "161/161 [==============================] - 7s 46ms/step - loss: 0.1257 - accuracy: 0.9554\n",
      "Epoch 55/100\n",
      "161/161 [==============================] - 7s 46ms/step - loss: 0.1257 - accuracy: 0.9542\n",
      "Epoch 56/100\n",
      "161/161 [==============================] - 7s 46ms/step - loss: 0.1272 - accuracy: 0.9552\n",
      "Epoch 57/100\n",
      "161/161 [==============================] - 7s 46ms/step - loss: 0.1228 - accuracy: 0.9587\n",
      "Epoch 58/100\n",
      "161/161 [==============================] - 7s 46ms/step - loss: 0.1260 - accuracy: 0.9589\n",
      "Epoch 59/100\n",
      "161/161 [==============================] - 7s 46ms/step - loss: 0.1226 - accuracy: 0.9596\n",
      "Epoch 60/100\n",
      "161/161 [==============================] - 7s 46ms/step - loss: 0.1244 - accuracy: 0.9567\n",
      "Epoch 61/100\n",
      "161/161 [==============================] - 7s 46ms/step - loss: 0.1191 - accuracy: 0.9591\n",
      "Epoch 62/100\n",
      "161/161 [==============================] - 7s 46ms/step - loss: 0.1189 - accuracy: 0.9612\n",
      "Epoch 63/100\n",
      "161/161 [==============================] - 7s 46ms/step - loss: 0.1212 - accuracy: 0.9616\n",
      "Epoch 64/100\n",
      "161/161 [==============================] - 9s 57ms/step - loss: 0.1183 - accuracy: 0.9634\n",
      "Epoch 65/100\n",
      "161/161 [==============================] - 9s 56ms/step - loss: 0.1184 - accuracy: 0.9579\n",
      "Epoch 66/100\n",
      "161/161 [==============================] - 9s 55ms/step - loss: 0.1134 - accuracy: 0.9612\n",
      "Epoch 67/100\n",
      "161/161 [==============================] - 9s 56ms/step - loss: 0.1264 - accuracy: 0.9602\n",
      "Epoch 68/100\n",
      "161/161 [==============================] - 9s 53ms/step - loss: 0.1229 - accuracy: 0.9563\n",
      "Epoch 69/100\n",
      "161/161 [==============================] - 10s 61ms/step - loss: 0.1139 - accuracy: 0.9632\n",
      "Epoch 70/100\n",
      "161/161 [==============================] - 9s 53ms/step - loss: 0.1202 - accuracy: 0.9581\n",
      "Epoch 71/100\n",
      "161/161 [==============================] - 9s 54ms/step - loss: 0.1128 - accuracy: 0.9653\n",
      "Epoch 72/100\n",
      "161/161 [==============================] - 9s 55ms/step - loss: 0.1117 - accuracy: 0.9655\n",
      "Epoch 73/100\n",
      "161/161 [==============================] - 9s 56ms/step - loss: 0.1055 - accuracy: 0.9665\n",
      "Epoch 74/100\n",
      "161/161 [==============================] - 9s 59ms/step - loss: 0.1130 - accuracy: 0.9626\n",
      "Epoch 75/100\n",
      "161/161 [==============================] - 10s 60ms/step - loss: 0.1123 - accuracy: 0.9620\n",
      "Epoch 76/100\n",
      "161/161 [==============================] - 10s 64ms/step - loss: 0.1076 - accuracy: 0.9659\n",
      "Epoch 77/100\n",
      "161/161 [==============================] - 9s 54ms/step - loss: 0.1104 - accuracy: 0.9634\n",
      "Epoch 78/100\n",
      "161/161 [==============================] - 9s 55ms/step - loss: 0.1107 - accuracy: 0.9634\n",
      "Epoch 79/100\n",
      "161/161 [==============================] - 9s 57ms/step - loss: 0.1029 - accuracy: 0.9673\n",
      "Epoch 80/100\n",
      "161/161 [==============================] - 9s 55ms/step - loss: 0.1101 - accuracy: 0.9632\n",
      "Epoch 81/100\n",
      "161/161 [==============================] - 9s 56ms/step - loss: 0.1070 - accuracy: 0.9655\n",
      "Epoch 82/100\n",
      "161/161 [==============================] - 9s 55ms/step - loss: 0.1065 - accuracy: 0.9637\n",
      "Epoch 83/100\n",
      "161/161 [==============================] - 9s 53ms/step - loss: 0.1094 - accuracy: 0.9639\n",
      "Epoch 84/100\n",
      "161/161 [==============================] - 9s 55ms/step - loss: 0.1069 - accuracy: 0.9641\n",
      "Epoch 85/100\n",
      "161/161 [==============================] - 9s 55ms/step - loss: 0.1083 - accuracy: 0.9643\n",
      "Epoch 86/100\n",
      "161/161 [==============================] - 9s 57ms/step - loss: 0.1040 - accuracy: 0.9663\n",
      "Epoch 87/100\n",
      "161/161 [==============================] - 9s 56ms/step - loss: 0.1054 - accuracy: 0.9657\n",
      "Epoch 88/100\n",
      "161/161 [==============================] - 9s 55ms/step - loss: 0.1004 - accuracy: 0.9684\n",
      "Epoch 89/100\n",
      "161/161 [==============================] - 9s 56ms/step - loss: 0.0988 - accuracy: 0.9680\n",
      "Epoch 90/100\n",
      "161/161 [==============================] - 9s 57ms/step - loss: 0.0996 - accuracy: 0.9647\n",
      "Epoch 91/100\n",
      "161/161 [==============================] - 8s 47ms/step - loss: 0.0998 - accuracy: 0.9698\n",
      "Epoch 92/100\n",
      "161/161 [==============================] - 8s 48ms/step - loss: 0.1056 - accuracy: 0.9653\n",
      "Epoch 93/100\n",
      "161/161 [==============================] - 9s 59ms/step - loss: 0.1016 - accuracy: 0.9674\n",
      "Epoch 94/100\n",
      "161/161 [==============================] - 9s 59ms/step - loss: 0.0991 - accuracy: 0.9673\n",
      "Epoch 95/100\n",
      "161/161 [==============================] - 9s 58ms/step - loss: 0.1000 - accuracy: 0.9682\n",
      "Epoch 96/100\n",
      "161/161 [==============================] - 9s 58ms/step - loss: 0.0954 - accuracy: 0.9712\n",
      "Epoch 97/100\n",
      "161/161 [==============================] - 9s 55ms/step - loss: 0.0958 - accuracy: 0.9692\n",
      "Epoch 98/100\n",
      "161/161 [==============================] - 9s 53ms/step - loss: 0.0976 - accuracy: 0.9674\n",
      "Epoch 99/100\n",
      "161/161 [==============================] - 9s 53ms/step - loss: 0.0985 - accuracy: 0.9680\n",
      "Epoch 100/100\n",
      "161/161 [==============================] - 9s 56ms/step - loss: 0.0942 - accuracy: 0.9692\n"
     ]
    },
    {
     "data": {
      "text/plain": [
       "<tensorflow.python.keras.callbacks.History at 0x14abc0e50>"
      ]
     },
     "execution_count": 70,
     "metadata": {},
     "output_type": "execute_result"
    }
   ],
   "source": [
    "newnewconstructed_model.fit_generator(generator=train_generator,\n",
    "                    steps_per_epoch=STEP_SIZE_TRAIN,\n",
    "                    epochs=100)"
   ]
  },
  {
   "cell_type": "code",
   "execution_count": 114,
   "metadata": {},
   "outputs": [
    {
     "name": "stdout",
     "output_type": "stream",
     "text": [
      "INFO:tensorflow:Assets written to: ultimate_LeNet_model/assets\n"
     ]
    }
   ],
   "source": [
    "newnewconstructed_model.save(\"ultimate_LeNet_model\")"
   ]
  },
  {
   "cell_type": "code",
   "execution_count": 113,
   "metadata": {},
   "outputs": [],
   "source": [
    "import os\n",
    "os.chdir(\"/Users/imac/Desktop\")"
   ]
  },
  {
   "cell_type": "code",
   "execution_count": 74,
   "metadata": {},
   "outputs": [
    {
     "data": {
      "text/plain": [
       "[0.501259446144104, 0.8533653616905212]"
      ]
     },
     "execution_count": 74,
     "metadata": {},
     "output_type": "execute_result"
    }
   ],
   "source": [
    "newnewconstructed_model.evaluate_generator(generator=test_generator,\n",
    "steps=STEP_SIZE_TEST)"
   ]
  },
  {
   "cell_type": "code",
   "execution_count": 112,
   "metadata": {},
   "outputs": [
    {
     "data": {
      "text/plain": [
       "'/Users/imac/Desktop'"
      ]
     },
     "execution_count": 112,
     "metadata": {},
     "output_type": "execute_result"
    }
   ],
   "source": [
    "pwd"
   ]
  },
  {
   "cell_type": "code",
   "execution_count": 80,
   "metadata": {},
   "outputs": [
    {
     "name": "stdout",
     "output_type": "stream",
     "text": [
      "[Errno 2] No such file or directory: 'image-dataset'\n",
      "/Users/imac/Desktop/image-dataset\n"
     ]
    }
   ],
   "source": [
    "cd image-dataset"
   ]
  },
  {
   "cell_type": "code",
   "execution_count": 88,
   "metadata": {},
   "outputs": [
    {
     "name": "stdout",
     "output_type": "stream",
     "text": [
      "cat_0071.jpg  cat_0089.jpg  cat_0107.jpg  cat_0125.jpg  cat_0143.jpg\r\n",
      "cat_0072.jpg  cat_0090.jpg  cat_0108.jpg  cat_0126.jpg  cat_0144.jpg\r\n",
      "cat_0073.jpg  cat_0091.jpg  cat_0109.jpg  cat_0127.jpg  cat_0145.jpg\r\n",
      "cat_0074.jpg  cat_0092.jpg  cat_0110.jpg  cat_0128.jpg  cat_0146.jpg\r\n",
      "cat_0075.jpg  cat_0093.jpg  cat_0111.jpg  cat_0129.jpg  cat_0147.jpg\r\n",
      "cat_0076.jpg  cat_0094.jpg  cat_0112.jpg  cat_0130.jpg  cat_0148.jpg\r\n",
      "cat_0077.jpg  cat_0095.jpg  cat_0113.jpg  cat_0131.jpg  cat_0149.jpg\r\n",
      "cat_0078.jpg  cat_0096.jpg  cat_0114.jpg  cat_0132.jpg  cat_0150.jpg\r\n",
      "cat_0079.jpg  cat_0097.jpg  cat_0115.jpg  cat_0133.jpg  cat_0151.jpg\r\n",
      "cat_0080.jpg  cat_0098.jpg  cat_0116.jpg  cat_0134.jpg  cat_0152.jpg\r\n",
      "cat_0081.jpg  cat_0099.jpg  cat_0117.jpg  cat_0135.jpg  cat_0153.jpg\r\n",
      "cat_0082.jpg  cat_0100.jpg  cat_0118.jpg  cat_0136.jpg  cat_0154.jpg\r\n",
      "cat_0083.jpg  cat_0101.jpg  cat_0119.jpg  cat_0137.jpg  cat_0155.jpg\r\n",
      "cat_0084.jpg  cat_0102.jpg  cat_0120.jpg  cat_0138.jpg  cat_0156.jpg\r\n",
      "cat_0085.jpg  cat_0103.jpg  cat_0121.jpg  cat_0139.jpg  cat_0157.jpg\r\n",
      "cat_0086.jpg  cat_0104.jpg  cat_0122.jpg  cat_0140.jpg  cat_0158.jpg\r\n",
      "cat_0087.jpg  cat_0105.jpg  cat_0123.jpg  cat_0141.jpg\r\n",
      "cat_0088.jpg  cat_0106.jpg  cat_0124.jpg  cat_0142.jpg\r\n"
     ]
    }
   ],
   "source": [
    "ls"
   ]
  },
  {
   "cell_type": "code",
   "execution_count": 102,
   "metadata": {},
   "outputs": [
    {
     "name": "stdout",
     "output_type": "stream",
     "text": [
      "Predicted Class is\n",
      "3\n"
     ]
    },
    {
     "data": {
      "image/png": "[encoded data removed]",
      "text/plain": [
       "<Figure size 432x288 with 1 Axes>"
      ]
     },
     "metadata": {
      "needs_background": "light"
     },
     "output_type": "display_data"
    }
   ],
   "source": [
    "import matplotlib.pyplot as plt\n",
    "from keras.preprocessing import image\n",
    "from PIL import Image\n",
    "test_image = image.load_img('/Users/imac/Desktop/dog.jpeg')\n",
    "plt.imshow(test_image)\n",
    "plt.title('This is my Image for Testing')\n",
    "test_image = test_image.resize((32, 32), Image.ANTIALIAS)\n",
    "test_image = image.img_to_array(test_image)\n",
    "test_image = np.expand_dims(test_image,axis=0)\n",
    "print(\"Predicted Class is\")\n",
    "print(newnewconstructed_model.predict_classes(test_image)[0])"
   ]
  },
  {
   "cell_type": "code",
   "execution_count": null,
   "metadata": {},
   "outputs": [],
   "source": [
    "'airplane': 0,\n",
    " 'car': 1,\n",
    " 'dog': 2,\n",
    " 'flower': 3,\n",
    " 'fruit': 4,\n",
    " 'motorbike': 5,\n",
    " 'person': 6}"
   ]
  },
  {
   "cell_type": "code",
   "execution_count": null,
   "metadata": {},
   "outputs": [],
   "source": []
  }
 ],
 "metadata": {
  "kernelspec": {
   "display_name": "Python 3",
   "language": "python",
   "name": "python3"
  },
  "language_info": {
   "codemirror_mode": {
    "name": "ipython",
    "version": 3
   },
   "file_extension": ".py",
   "mimetype": "text/x-python",
   "name": "python",
   "nbconvert_exporter": "python",
   "pygments_lexer": "ipython3",
   "version": "3.8.5"
  }
 },
 "nbformat": 4,
 "nbformat_minor": 4
}
